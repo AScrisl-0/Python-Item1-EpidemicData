{
 "cells": [
  {
   "cell_type": "code",
   "execution_count": 1,
   "metadata": {
    "collapsed": true,
    "pycharm": {
     "name": "#%%\n"
    }
   },
   "outputs": [],
   "source": [
    "import pandas as pd\n"
   ]
  },
  {
   "cell_type": "code",
   "execution_count": 3,
   "outputs": [
    {
     "name": "stdout",
     "output_type": "stream",
     "text": [
      "     游戏名称               ISBN    安装包大小           游戏开发者 适龄提示             著作权人  \\\n",
      "0  英雄联盟手游  978-7-498-08805-5  1925.8M  深圳市腾讯计算机系统有限公司  16+  Riot Games.inc.   \n",
      "1   战双帕弥什  978-7-498-06783-8  1969.5M    天津英雄互娱科技有限公司  18+       广州库洛科技有限公司   \n",
      "2    王者荣耀  978-7-7979-8408-9  1962.3M  深圳市腾讯计算机系统有限公司  18+     腾讯科技（成都）有限公司   \n",
      "3    QQ飞车  978-7-7979-8888-9  2010.3M  深圳市腾讯计算机系统有限公司  18+     腾讯科技（深圳）有限公司   \n",
      "4    和平精英  978-7-498-06474-5  1974.4M  深圳市腾讯计算机系统有限公司  18+     腾讯科技（深圳）有限公司   \n",
      "\n",
      "              出版单位            运营单位             批准文号   下载量  ...   数据空间   运行空间  \\\n",
      "0   深圳市腾讯计算机系统有限公司  深圳市腾讯计算机系统有限公司   国新出审[2021]320号    1亿  ...  3000M  5360M   \n",
      "1  上海科学技术文献出版社有限公司               0  国新出审[2019]2655号  726万  ...  7740M  9950M   \n",
      "2   深圳市腾讯计算机系统有限公司               0  新广出审[2017]6712号   38亿  ...  5530M  8010M   \n",
      "3   深圳市腾讯计算机系统有限公司  深圳市腾讯计算机系统有限公司  新广出审[2017]5377号    3亿  ...  3980M  6140M   \n",
      "4   深圳市腾讯计算机系统有限公司  深圳市腾讯计算机系统有限公司  国新出审[2019]1394号   21亿  ...  5400M  7720M   \n",
      "\n",
      "           运行版本   评分                                                网文号  累计充值  \\\n",
      "0    3.2.0.5531  2.1                                    （署）网出证（粤）字第054号   0.0   \n",
      "1        1.29.0  4.5                                 软著登记号：2018SR606270   0.0   \n",
      "2      3.73.1.8  2.1          粤网文[2017]6138-1456号，文网游备字[2016]M-CSG 0059   0.0   \n",
      "3  1.31.0.60477  2.3  （署）网出证（粤）字第054号，粤网文[2020]3396-195号，文网游备字[2017]...   0.0   \n",
      "4       1.18.10  3.2                                粤网文[2017]6138-1456号   0.0   \n",
      "\n",
      "  是否需要权限运行     下载源       开始时间      截止时间  \n",
      "0        否  华为应用商店  2022.5.29  2022.6.6  \n",
      "1        否  华为应用商店  2022.5.29       NaN  \n",
      "2        否  华为应用商店  2022.5.29       NaN  \n",
      "3        否  华为应用商店  2022.5.29       NaN  \n",
      "4        否  华为应用商店  2022.5.29       NaN  \n",
      "\n",
      "[5 rows x 22 columns]\n"
     ]
    }
   ],
   "source": [
    "input_file_path = 'q:/Games.xlsx'\n",
    "\n",
    "data = pd.read_excel(input_file_path)\n",
    "\n",
    "print(data.head())"
   ],
   "metadata": {
    "collapsed": false,
    "pycharm": {
     "name": "#%%\n"
    }
   }
  },
  {
   "cell_type": "code",
   "execution_count": 4,
   "outputs": [],
   "source": [
    "data.to_csv('f:/ASUSx/Desktop/Games.csv',index=False)"
   ],
   "metadata": {
    "collapsed": false,
    "pycharm": {
     "name": "#%%\n"
    }
   }
  }
 ],
 "metadata": {
  "kernelspec": {
   "display_name": "Python 3",
   "language": "python",
   "name": "python3"
  },
  "language_info": {
   "codemirror_mode": {
    "name": "ipython",
    "version": 2
   },
   "file_extension": ".py",
   "mimetype": "text/x-python",
   "name": "python",
   "nbconvert_exporter": "python",
   "pygments_lexer": "ipython2",
   "version": "2.7.6"
  }
 },
 "nbformat": 4,
 "nbformat_minor": 0
}