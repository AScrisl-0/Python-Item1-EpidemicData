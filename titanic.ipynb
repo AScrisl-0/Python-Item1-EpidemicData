{
 "cells": [
  {
   "cell_type": "code",
   "execution_count": 3,
   "id": "370fa37b",
   "metadata": {
    "pycharm": {
     "name": "#%%\n"
    }
   },
   "outputs": [],
   "source": [
    "import numpy as np\n",
    "import pandas as pd "
   ]
  },
  {
   "cell_type": "code",
   "execution_count": 4,
   "id": "954f8b7e",
   "metadata": {
    "pycharm": {
     "name": "#%%\n"
    }
   },
   "outputs": [
    {
     "data": {
      "text/plain": "(891, 12)"
     },
     "execution_count": 4,
     "metadata": {},
     "output_type": "execute_result"
    }
   ],
   "source": [
    "train=pd.read_csv(\"q:/train.csv\")\n",
    "test=pd.read_csv(\"q:/test.csv\")\n",
    "train.shape"
   ]
  },
  {
   "cell_type": "code",
   "execution_count": 5,
   "id": "f227c51a",
   "metadata": {
    "pycharm": {
     "name": "#%%\n"
    }
   },
   "outputs": [
    {
     "data": {
      "text/plain": "(418, 11)"
     },
     "execution_count": 5,
     "metadata": {},
     "output_type": "execute_result"
    }
   ],
   "source": [
    "test.shape"
   ]
  },
  {
   "cell_type": "code",
   "execution_count": 6,
   "id": "79b1d6a6",
   "metadata": {
    "pycharm": {
     "name": "#%%\n"
    }
   },
   "outputs": [
    {
     "name": "stderr",
     "output_type": "stream",
     "text": [
      "C:\\Users\\ASUS\\AppData\\Local\\Temp\\ipykernel_17940\\3841737661.py:1: FutureWarning: The frame.append method is deprecated and will be removed from pandas in a future version. Use pandas.concat instead.\n",
      "  full=train.append(test,ignore_index=True)\n"
     ]
    },
    {
     "data": {
      "text/plain": "(1309, 12)"
     },
     "execution_count": 6,
     "metadata": {},
     "output_type": "execute_result"
    }
   ],
   "source": [
    "full=train.append(test,ignore_index=True)\n",
    "full.shape"
   ]
  },
  {
   "cell_type": "code",
   "execution_count": 7,
   "id": "8375a013",
   "metadata": {
    "pycharm": {
     "name": "#%%\n"
    }
   },
   "outputs": [
    {
     "data": {
      "text/plain": "   PassengerId  Survived  Pclass  \\\n0            1       0.0       3   \n1            2       1.0       1   \n2            3       1.0       3   \n3            4       1.0       1   \n4            5       0.0       3   \n\n                                                Name     Sex   Age  SibSp  \\\n0                            Braund, Mr. Owen Harris    male  22.0      1   \n1  Cumings, Mrs. John Bradley (Florence Briggs Th...  female  38.0      1   \n2                             Heikkinen, Miss. Laina  female  26.0      0   \n3       Futrelle, Mrs. Jacques Heath (Lily May Peel)  female  35.0      1   \n4                           Allen, Mr. William Henry    male  35.0      0   \n\n   Parch            Ticket     Fare Cabin Embarked  \n0      0         A/5 21171   7.2500   NaN        S  \n1      0          PC 17599  71.2833   C85        C  \n2      0  STON/O2. 3101282   7.9250   NaN        S  \n3      0            113803  53.1000  C123        S  \n4      0            373450   8.0500   NaN        S  ",
      "text/html": "<div>\n<style scoped>\n    .dataframe tbody tr th:only-of-type {\n        vertical-align: middle;\n    }\n\n    .dataframe tbody tr th {\n        vertical-align: top;\n    }\n\n    .dataframe thead th {\n        text-align: right;\n    }\n</style>\n<table border=\"1\" class=\"dataframe\">\n  <thead>\n    <tr style=\"text-align: right;\">\n      <th></th>\n      <th>PassengerId</th>\n      <th>Survived</th>\n      <th>Pclass</th>\n      <th>Name</th>\n      <th>Sex</th>\n      <th>Age</th>\n      <th>SibSp</th>\n      <th>Parch</th>\n      <th>Ticket</th>\n      <th>Fare</th>\n      <th>Cabin</th>\n      <th>Embarked</th>\n    </tr>\n  </thead>\n  <tbody>\n    <tr>\n      <th>0</th>\n      <td>1</td>\n      <td>0.0</td>\n      <td>3</td>\n      <td>Braund, Mr. Owen Harris</td>\n      <td>male</td>\n      <td>22.0</td>\n      <td>1</td>\n      <td>0</td>\n      <td>A/5 21171</td>\n      <td>7.2500</td>\n      <td>NaN</td>\n      <td>S</td>\n    </tr>\n    <tr>\n      <th>1</th>\n      <td>2</td>\n      <td>1.0</td>\n      <td>1</td>\n      <td>Cumings, Mrs. John Bradley (Florence Briggs Th...</td>\n      <td>female</td>\n      <td>38.0</td>\n      <td>1</td>\n      <td>0</td>\n      <td>PC 17599</td>\n      <td>71.2833</td>\n      <td>C85</td>\n      <td>C</td>\n    </tr>\n    <tr>\n      <th>2</th>\n      <td>3</td>\n      <td>1.0</td>\n      <td>3</td>\n      <td>Heikkinen, Miss. Laina</td>\n      <td>female</td>\n      <td>26.0</td>\n      <td>0</td>\n      <td>0</td>\n      <td>STON/O2. 3101282</td>\n      <td>7.9250</td>\n      <td>NaN</td>\n      <td>S</td>\n    </tr>\n    <tr>\n      <th>3</th>\n      <td>4</td>\n      <td>1.0</td>\n      <td>1</td>\n      <td>Futrelle, Mrs. Jacques Heath (Lily May Peel)</td>\n      <td>female</td>\n      <td>35.0</td>\n      <td>1</td>\n      <td>0</td>\n      <td>113803</td>\n      <td>53.1000</td>\n      <td>C123</td>\n      <td>S</td>\n    </tr>\n    <tr>\n      <th>4</th>\n      <td>5</td>\n      <td>0.0</td>\n      <td>3</td>\n      <td>Allen, Mr. William Henry</td>\n      <td>male</td>\n      <td>35.0</td>\n      <td>0</td>\n      <td>0</td>\n      <td>373450</td>\n      <td>8.0500</td>\n      <td>NaN</td>\n      <td>S</td>\n    </tr>\n  </tbody>\n</table>\n</div>"
     },
     "execution_count": 7,
     "metadata": {},
     "output_type": "execute_result"
    }
   ],
   "source": [
    "full.head(5)"
   ]
  },
  {
   "cell_type": "code",
   "execution_count": 8,
   "id": "d5f70d28",
   "metadata": {
    "pycharm": {
     "name": "#%%\n"
    }
   },
   "outputs": [
    {
     "data": {
      "text/plain": "       PassengerId    Survived       Pclass          Age        SibSp  \\\ncount  1309.000000  891.000000  1309.000000  1046.000000  1309.000000   \nmean    655.000000    0.383838     2.294882    29.881138     0.498854   \nstd     378.020061    0.486592     0.837836    14.413493     1.041658   \nmin       1.000000    0.000000     1.000000     0.170000     0.000000   \n25%     328.000000    0.000000     2.000000    21.000000     0.000000   \n50%     655.000000    0.000000     3.000000    28.000000     0.000000   \n75%     982.000000    1.000000     3.000000    39.000000     1.000000   \nmax    1309.000000    1.000000     3.000000    80.000000     8.000000   \n\n             Parch         Fare  \ncount  1309.000000  1308.000000  \nmean      0.385027    33.295479  \nstd       0.865560    51.758668  \nmin       0.000000     0.000000  \n25%       0.000000     7.895800  \n50%       0.000000    14.454200  \n75%       0.000000    31.275000  \nmax       9.000000   512.329200  ",
      "text/html": "<div>\n<style scoped>\n    .dataframe tbody tr th:only-of-type {\n        vertical-align: middle;\n    }\n\n    .dataframe tbody tr th {\n        vertical-align: top;\n    }\n\n    .dataframe thead th {\n        text-align: right;\n    }\n</style>\n<table border=\"1\" class=\"dataframe\">\n  <thead>\n    <tr style=\"text-align: right;\">\n      <th></th>\n      <th>PassengerId</th>\n      <th>Survived</th>\n      <th>Pclass</th>\n      <th>Age</th>\n      <th>SibSp</th>\n      <th>Parch</th>\n      <th>Fare</th>\n    </tr>\n  </thead>\n  <tbody>\n    <tr>\n      <th>count</th>\n      <td>1309.000000</td>\n      <td>891.000000</td>\n      <td>1309.000000</td>\n      <td>1046.000000</td>\n      <td>1309.000000</td>\n      <td>1309.000000</td>\n      <td>1308.000000</td>\n    </tr>\n    <tr>\n      <th>mean</th>\n      <td>655.000000</td>\n      <td>0.383838</td>\n      <td>2.294882</td>\n      <td>29.881138</td>\n      <td>0.498854</td>\n      <td>0.385027</td>\n      <td>33.295479</td>\n    </tr>\n    <tr>\n      <th>std</th>\n      <td>378.020061</td>\n      <td>0.486592</td>\n      <td>0.837836</td>\n      <td>14.413493</td>\n      <td>1.041658</td>\n      <td>0.865560</td>\n      <td>51.758668</td>\n    </tr>\n    <tr>\n      <th>min</th>\n      <td>1.000000</td>\n      <td>0.000000</td>\n      <td>1.000000</td>\n      <td>0.170000</td>\n      <td>0.000000</td>\n      <td>0.000000</td>\n      <td>0.000000</td>\n    </tr>\n    <tr>\n      <th>25%</th>\n      <td>328.000000</td>\n      <td>0.000000</td>\n      <td>2.000000</td>\n      <td>21.000000</td>\n      <td>0.000000</td>\n      <td>0.000000</td>\n      <td>7.895800</td>\n    </tr>\n    <tr>\n      <th>50%</th>\n      <td>655.000000</td>\n      <td>0.000000</td>\n      <td>3.000000</td>\n      <td>28.000000</td>\n      <td>0.000000</td>\n      <td>0.000000</td>\n      <td>14.454200</td>\n    </tr>\n    <tr>\n      <th>75%</th>\n      <td>982.000000</td>\n      <td>1.000000</td>\n      <td>3.000000</td>\n      <td>39.000000</td>\n      <td>1.000000</td>\n      <td>0.000000</td>\n      <td>31.275000</td>\n    </tr>\n    <tr>\n      <th>max</th>\n      <td>1309.000000</td>\n      <td>1.000000</td>\n      <td>3.000000</td>\n      <td>80.000000</td>\n      <td>8.000000</td>\n      <td>9.000000</td>\n      <td>512.329200</td>\n    </tr>\n  </tbody>\n</table>\n</div>"
     },
     "execution_count": 8,
     "metadata": {},
     "output_type": "execute_result"
    }
   ],
   "source": [
    "full.describe()"
   ]
  },
  {
   "cell_type": "code",
   "execution_count": 9,
   "id": "aa5c3607",
   "metadata": {
    "pycharm": {
     "name": "#%%\n"
    }
   },
   "outputs": [
    {
     "name": "stdout",
     "output_type": "stream",
     "text": [
      "<class 'pandas.core.frame.DataFrame'>\n",
      "RangeIndex: 1309 entries, 0 to 1308\n",
      "Data columns (total 12 columns):\n",
      " #   Column       Non-Null Count  Dtype  \n",
      "---  ------       --------------  -----  \n",
      " 0   PassengerId  1309 non-null   int64  \n",
      " 1   Survived     891 non-null    float64\n",
      " 2   Pclass       1309 non-null   int64  \n",
      " 3   Name         1309 non-null   object \n",
      " 4   Sex          1309 non-null   object \n",
      " 5   Age          1046 non-null   float64\n",
      " 6   SibSp        1309 non-null   int64  \n",
      " 7   Parch        1309 non-null   int64  \n",
      " 8   Ticket       1309 non-null   object \n",
      " 9   Fare         1308 non-null   float64\n",
      " 10  Cabin        295 non-null    object \n",
      " 11  Embarked     1307 non-null   object \n",
      "dtypes: float64(3), int64(4), object(5)\n",
      "memory usage: 122.8+ KB\n"
     ]
    }
   ],
   "source": [
    "full.info()"
   ]
  },
  {
   "cell_type": "code",
   "execution_count": 10,
   "id": "83df2b33",
   "metadata": {
    "pycharm": {
     "name": "#%%\n"
    }
   },
   "outputs": [],
   "source": [
    "full['Age']=full['Age'].fillna(full['Age'].mean())\n",
    "full['Fare']=full['Fare'].fillna(full['Fare'].mean())"
   ]
  },
  {
   "cell_type": "code",
   "execution_count": 11,
   "id": "df101414",
   "metadata": {
    "pycharm": {
     "name": "#%%\n"
    }
   },
   "outputs": [
    {
     "name": "stdout",
     "output_type": "stream",
     "text": [
      "<class 'pandas.core.frame.DataFrame'>\n",
      "RangeIndex: 1309 entries, 0 to 1308\n",
      "Data columns (total 12 columns):\n",
      " #   Column       Non-Null Count  Dtype  \n",
      "---  ------       --------------  -----  \n",
      " 0   PassengerId  1309 non-null   int64  \n",
      " 1   Survived     891 non-null    float64\n",
      " 2   Pclass       1309 non-null   int64  \n",
      " 3   Name         1309 non-null   object \n",
      " 4   Sex          1309 non-null   object \n",
      " 5   Age          1309 non-null   float64\n",
      " 6   SibSp        1309 non-null   int64  \n",
      " 7   Parch        1309 non-null   int64  \n",
      " 8   Ticket       1309 non-null   object \n",
      " 9   Fare         1309 non-null   float64\n",
      " 10  Cabin        295 non-null    object \n",
      " 11  Embarked     1307 non-null   object \n",
      "dtypes: float64(3), int64(4), object(5)\n",
      "memory usage: 122.8+ KB\n"
     ]
    }
   ],
   "source": [
    "full.info()"
   ]
  },
  {
   "cell_type": "code",
   "execution_count": 12,
   "id": "1b8958ca",
   "metadata": {
    "pycharm": {
     "name": "#%%\n"
    }
   },
   "outputs": [
    {
     "data": {
      "text/plain": "0    S\n1    C\n2    S\n3    S\n4    S\nName: Embarked, dtype: object"
     },
     "execution_count": 12,
     "metadata": {},
     "output_type": "execute_result"
    }
   ],
   "source": [
    "full['Embarked'].head()"
   ]
  },
  {
   "cell_type": "code",
   "execution_count": 13,
   "id": "6da2f36b",
   "metadata": {
    "pycharm": {
     "name": "#%%\n"
    }
   },
   "outputs": [
    {
     "data": {
      "text/plain": "S    914\nC    270\nQ    123\nName: Embarked, dtype: int64"
     },
     "execution_count": 13,
     "metadata": {},
     "output_type": "execute_result"
    }
   ],
   "source": [
    "full['Embarked'].value_counts()"
   ]
  },
  {
   "cell_type": "code",
   "execution_count": 14,
   "id": "bc7b198f",
   "metadata": {
    "pycharm": {
     "name": "#%%\n"
    }
   },
   "outputs": [
    {
     "data": {
      "text/plain": "S    916\nC    270\nQ    123\nName: Embarked, dtype: int64"
     },
     "execution_count": 14,
     "metadata": {},
     "output_type": "execute_result"
    }
   ],
   "source": [
    "full['Embarked']=full['Embarked'].fillna('S')\n",
    "full['Embarked'].value_counts()"
   ]
  },
  {
   "cell_type": "code",
   "execution_count": 15,
   "id": "dd2287ff",
   "metadata": {
    "pycharm": {
     "name": "#%%\n"
    }
   },
   "outputs": [
    {
     "data": {
      "text/plain": "0     NaN\n1     C85\n2     NaN\n3    C123\n4     NaN\nName: Cabin, dtype: object"
     },
     "execution_count": 15,
     "metadata": {},
     "output_type": "execute_result"
    }
   ],
   "source": [
    "full['Cabin'].head()"
   ]
  },
  {
   "cell_type": "code",
   "execution_count": 16,
   "id": "e1490e1f",
   "metadata": {
    "pycharm": {
     "name": "#%%\n"
    }
   },
   "outputs": [],
   "source": [
    "full['Cabin']=full['Cabin'].fillna('U')"
   ]
  },
  {
   "cell_type": "code",
   "execution_count": 17,
   "id": "c318885e",
   "metadata": {
    "pycharm": {
     "name": "#%%\n"
    }
   },
   "outputs": [
    {
     "data": {
      "text/plain": "0       U\n1     C85\n2       U\n3    C123\n4       U\nName: Cabin, dtype: object"
     },
     "execution_count": 17,
     "metadata": {},
     "output_type": "execute_result"
    }
   ],
   "source": [
    "full['Cabin'].head()"
   ]
  },
  {
   "cell_type": "code",
   "execution_count": 18,
   "id": "dc9e37a9",
   "metadata": {
    "pycharm": {
     "name": "#%%\n"
    }
   },
   "outputs": [
    {
     "data": {
      "text/plain": "   PassengerId  Survived  Pclass  \\\n0            1       0.0       3   \n1            2       1.0       1   \n2            3       1.0       3   \n3            4       1.0       1   \n4            5       0.0       3   \n\n                                                Name     Sex   Age  SibSp  \\\n0                            Braund, Mr. Owen Harris    male  22.0      1   \n1  Cumings, Mrs. John Bradley (Florence Briggs Th...  female  38.0      1   \n2                             Heikkinen, Miss. Laina  female  26.0      0   \n3       Futrelle, Mrs. Jacques Heath (Lily May Peel)  female  35.0      1   \n4                           Allen, Mr. William Henry    male  35.0      0   \n\n   Parch            Ticket     Fare Cabin Embarked  \n0      0         A/5 21171   7.2500     U        S  \n1      0          PC 17599  71.2833   C85        C  \n2      0  STON/O2. 3101282   7.9250     U        S  \n3      0            113803  53.1000  C123        S  \n4      0            373450   8.0500     U        S  ",
      "text/html": "<div>\n<style scoped>\n    .dataframe tbody tr th:only-of-type {\n        vertical-align: middle;\n    }\n\n    .dataframe tbody tr th {\n        vertical-align: top;\n    }\n\n    .dataframe thead th {\n        text-align: right;\n    }\n</style>\n<table border=\"1\" class=\"dataframe\">\n  <thead>\n    <tr style=\"text-align: right;\">\n      <th></th>\n      <th>PassengerId</th>\n      <th>Survived</th>\n      <th>Pclass</th>\n      <th>Name</th>\n      <th>Sex</th>\n      <th>Age</th>\n      <th>SibSp</th>\n      <th>Parch</th>\n      <th>Ticket</th>\n      <th>Fare</th>\n      <th>Cabin</th>\n      <th>Embarked</th>\n    </tr>\n  </thead>\n  <tbody>\n    <tr>\n      <th>0</th>\n      <td>1</td>\n      <td>0.0</td>\n      <td>3</td>\n      <td>Braund, Mr. Owen Harris</td>\n      <td>male</td>\n      <td>22.0</td>\n      <td>1</td>\n      <td>0</td>\n      <td>A/5 21171</td>\n      <td>7.2500</td>\n      <td>U</td>\n      <td>S</td>\n    </tr>\n    <tr>\n      <th>1</th>\n      <td>2</td>\n      <td>1.0</td>\n      <td>1</td>\n      <td>Cumings, Mrs. John Bradley (Florence Briggs Th...</td>\n      <td>female</td>\n      <td>38.0</td>\n      <td>1</td>\n      <td>0</td>\n      <td>PC 17599</td>\n      <td>71.2833</td>\n      <td>C85</td>\n      <td>C</td>\n    </tr>\n    <tr>\n      <th>2</th>\n      <td>3</td>\n      <td>1.0</td>\n      <td>3</td>\n      <td>Heikkinen, Miss. Laina</td>\n      <td>female</td>\n      <td>26.0</td>\n      <td>0</td>\n      <td>0</td>\n      <td>STON/O2. 3101282</td>\n      <td>7.9250</td>\n      <td>U</td>\n      <td>S</td>\n    </tr>\n    <tr>\n      <th>3</th>\n      <td>4</td>\n      <td>1.0</td>\n      <td>1</td>\n      <td>Futrelle, Mrs. Jacques Heath (Lily May Peel)</td>\n      <td>female</td>\n      <td>35.0</td>\n      <td>1</td>\n      <td>0</td>\n      <td>113803</td>\n      <td>53.1000</td>\n      <td>C123</td>\n      <td>S</td>\n    </tr>\n    <tr>\n      <th>4</th>\n      <td>5</td>\n      <td>0.0</td>\n      <td>3</td>\n      <td>Allen, Mr. William Henry</td>\n      <td>male</td>\n      <td>35.0</td>\n      <td>0</td>\n      <td>0</td>\n      <td>373450</td>\n      <td>8.0500</td>\n      <td>U</td>\n      <td>S</td>\n    </tr>\n  </tbody>\n</table>\n</div>"
     },
     "execution_count": 18,
     "metadata": {},
     "output_type": "execute_result"
    }
   ],
   "source": [
    "full.head()"
   ]
  },
  {
   "cell_type": "code",
   "execution_count": 19,
   "id": "e766837f",
   "metadata": {
    "pycharm": {
     "name": "#%%\n"
    }
   },
   "outputs": [
    {
     "name": "stdout",
     "output_type": "stream",
     "text": [
      "<class 'pandas.core.frame.DataFrame'>\n",
      "RangeIndex: 1309 entries, 0 to 1308\n",
      "Data columns (total 12 columns):\n",
      " #   Column       Non-Null Count  Dtype  \n",
      "---  ------       --------------  -----  \n",
      " 0   PassengerId  1309 non-null   int64  \n",
      " 1   Survived     891 non-null    float64\n",
      " 2   Pclass       1309 non-null   int64  \n",
      " 3   Name         1309 non-null   object \n",
      " 4   Sex          1309 non-null   object \n",
      " 5   Age          1309 non-null   float64\n",
      " 6   SibSp        1309 non-null   int64  \n",
      " 7   Parch        1309 non-null   int64  \n",
      " 8   Ticket       1309 non-null   object \n",
      " 9   Fare         1309 non-null   float64\n",
      " 10  Cabin        1309 non-null   object \n",
      " 11  Embarked     1309 non-null   object \n",
      "dtypes: float64(3), int64(4), object(5)\n",
      "memory usage: 122.8+ KB\n"
     ]
    }
   ],
   "source": [
    "full.info()"
   ]
  },
  {
   "cell_type": "code",
   "execution_count": 20,
   "id": "f01d05b9",
   "metadata": {
    "pycharm": {
     "name": "#%%\n"
    }
   },
   "outputs": [
    {
     "data": {
      "text/plain": "0      male\n1    female\n2    female\n3    female\n4      male\nName: Sex, dtype: object"
     },
     "execution_count": 20,
     "metadata": {},
     "output_type": "execute_result"
    }
   ],
   "source": [
    "full['Sex'].head()"
   ]
  },
  {
   "cell_type": "code",
   "execution_count": 22,
   "id": "793673fb",
   "metadata": {
    "pycharm": {
     "name": "#%%\n"
    }
   },
   "outputs": [],
   "source": [
    "sex_mapDict={'male':1,'female':0}\n",
    "full['Sex']=full['Sex'].map(sex_mapDict)"
   ]
  },
  {
   "cell_type": "code",
   "execution_count": 23,
   "id": "078a32f4",
   "metadata": {
    "pycharm": {
     "name": "#%%\n"
    }
   },
   "outputs": [
    {
     "data": {
      "text/plain": "   PassengerId  Survived  Pclass  \\\n0            1       0.0       3   \n1            2       1.0       1   \n2            3       1.0       3   \n3            4       1.0       1   \n4            5       0.0       3   \n\n                                                Name  Sex   Age  SibSp  Parch  \\\n0                            Braund, Mr. Owen Harris  NaN  22.0      1      0   \n1  Cumings, Mrs. John Bradley (Florence Briggs Th...  NaN  38.0      1      0   \n2                             Heikkinen, Miss. Laina  NaN  26.0      0      0   \n3       Futrelle, Mrs. Jacques Heath (Lily May Peel)  NaN  35.0      1      0   \n4                           Allen, Mr. William Henry  NaN  35.0      0      0   \n\n             Ticket     Fare Cabin Embarked  \n0         A/5 21171   7.2500     U        S  \n1          PC 17599  71.2833   C85        C  \n2  STON/O2. 3101282   7.9250     U        S  \n3            113803  53.1000  C123        S  \n4            373450   8.0500     U        S  ",
      "text/html": "<div>\n<style scoped>\n    .dataframe tbody tr th:only-of-type {\n        vertical-align: middle;\n    }\n\n    .dataframe tbody tr th {\n        vertical-align: top;\n    }\n\n    .dataframe thead th {\n        text-align: right;\n    }\n</style>\n<table border=\"1\" class=\"dataframe\">\n  <thead>\n    <tr style=\"text-align: right;\">\n      <th></th>\n      <th>PassengerId</th>\n      <th>Survived</th>\n      <th>Pclass</th>\n      <th>Name</th>\n      <th>Sex</th>\n      <th>Age</th>\n      <th>SibSp</th>\n      <th>Parch</th>\n      <th>Ticket</th>\n      <th>Fare</th>\n      <th>Cabin</th>\n      <th>Embarked</th>\n    </tr>\n  </thead>\n  <tbody>\n    <tr>\n      <th>0</th>\n      <td>1</td>\n      <td>0.0</td>\n      <td>3</td>\n      <td>Braund, Mr. Owen Harris</td>\n      <td>NaN</td>\n      <td>22.0</td>\n      <td>1</td>\n      <td>0</td>\n      <td>A/5 21171</td>\n      <td>7.2500</td>\n      <td>U</td>\n      <td>S</td>\n    </tr>\n    <tr>\n      <th>1</th>\n      <td>2</td>\n      <td>1.0</td>\n      <td>1</td>\n      <td>Cumings, Mrs. John Bradley (Florence Briggs Th...</td>\n      <td>NaN</td>\n      <td>38.0</td>\n      <td>1</td>\n      <td>0</td>\n      <td>PC 17599</td>\n      <td>71.2833</td>\n      <td>C85</td>\n      <td>C</td>\n    </tr>\n    <tr>\n      <th>2</th>\n      <td>3</td>\n      <td>1.0</td>\n      <td>3</td>\n      <td>Heikkinen, Miss. Laina</td>\n      <td>NaN</td>\n      <td>26.0</td>\n      <td>0</td>\n      <td>0</td>\n      <td>STON/O2. 3101282</td>\n      <td>7.9250</td>\n      <td>U</td>\n      <td>S</td>\n    </tr>\n    <tr>\n      <th>3</th>\n      <td>4</td>\n      <td>1.0</td>\n      <td>1</td>\n      <td>Futrelle, Mrs. Jacques Heath (Lily May Peel)</td>\n      <td>NaN</td>\n      <td>35.0</td>\n      <td>1</td>\n      <td>0</td>\n      <td>113803</td>\n      <td>53.1000</td>\n      <td>C123</td>\n      <td>S</td>\n    </tr>\n    <tr>\n      <th>4</th>\n      <td>5</td>\n      <td>0.0</td>\n      <td>3</td>\n      <td>Allen, Mr. William Henry</td>\n      <td>NaN</td>\n      <td>35.0</td>\n      <td>0</td>\n      <td>0</td>\n      <td>373450</td>\n      <td>8.0500</td>\n      <td>U</td>\n      <td>S</td>\n    </tr>\n  </tbody>\n</table>\n</div>"
     },
     "execution_count": 23,
     "metadata": {},
     "output_type": "execute_result"
    }
   ],
   "source": [
    "full.head()"
   ]
  },
  {
   "cell_type": "code",
   "execution_count": 24,
   "id": "743fe3f7",
   "metadata": {
    "pycharm": {
     "name": "#%%\n"
    }
   },
   "outputs": [
    {
     "data": {
      "text/plain": "0    S\n1    C\n2    S\n3    S\n4    S\nName: Embarked, dtype: object"
     },
     "execution_count": 24,
     "metadata": {},
     "output_type": "execute_result"
    }
   ],
   "source": [
    "full['Embarked'].head()"
   ]
  },
  {
   "cell_type": "code",
   "execution_count": 25,
   "id": "2a542416",
   "metadata": {
    "pycharm": {
     "name": "#%%\n"
    }
   },
   "outputs": [
    {
     "data": {
      "text/plain": "   Embarked_C  Embarked_Q  Embarked_S\n0           0           0           1\n1           1           0           0\n2           0           0           1\n3           0           0           1\n4           0           0           1",
      "text/html": "<div>\n<style scoped>\n    .dataframe tbody tr th:only-of-type {\n        vertical-align: middle;\n    }\n\n    .dataframe tbody tr th {\n        vertical-align: top;\n    }\n\n    .dataframe thead th {\n        text-align: right;\n    }\n</style>\n<table border=\"1\" class=\"dataframe\">\n  <thead>\n    <tr style=\"text-align: right;\">\n      <th></th>\n      <th>Embarked_C</th>\n      <th>Embarked_Q</th>\n      <th>Embarked_S</th>\n    </tr>\n  </thead>\n  <tbody>\n    <tr>\n      <th>0</th>\n      <td>0</td>\n      <td>0</td>\n      <td>1</td>\n    </tr>\n    <tr>\n      <th>1</th>\n      <td>1</td>\n      <td>0</td>\n      <td>0</td>\n    </tr>\n    <tr>\n      <th>2</th>\n      <td>0</td>\n      <td>0</td>\n      <td>1</td>\n    </tr>\n    <tr>\n      <th>3</th>\n      <td>0</td>\n      <td>0</td>\n      <td>1</td>\n    </tr>\n    <tr>\n      <th>4</th>\n      <td>0</td>\n      <td>0</td>\n      <td>1</td>\n    </tr>\n  </tbody>\n</table>\n</div>"
     },
     "execution_count": 25,
     "metadata": {},
     "output_type": "execute_result"
    }
   ],
   "source": [
    "Embarked=pd.DataFrame()\n",
    "embarkedDF=pd.get_dummies(full['Embarked'],prefix='Embarked')\n",
    "embarkedDF.head()"
   ]
  },
  {
   "cell_type": "code",
   "execution_count": 26,
   "id": "5a940619",
   "metadata": {
    "pycharm": {
     "name": "#%%\n"
    }
   },
   "outputs": [
    {
     "data": {
      "text/plain": "   PassengerId  Survived  Pclass  \\\n0            1       0.0       3   \n1            2       1.0       1   \n2            3       1.0       3   \n3            4       1.0       1   \n4            5       0.0       3   \n\n                                                Name  Sex   Age  SibSp  Parch  \\\n0                            Braund, Mr. Owen Harris  NaN  22.0      1      0   \n1  Cumings, Mrs. John Bradley (Florence Briggs Th...  NaN  38.0      1      0   \n2                             Heikkinen, Miss. Laina  NaN  26.0      0      0   \n3       Futrelle, Mrs. Jacques Heath (Lily May Peel)  NaN  35.0      1      0   \n4                           Allen, Mr. William Henry  NaN  35.0      0      0   \n\n             Ticket     Fare Cabin  Embarked_C  Embarked_Q  Embarked_S  \n0         A/5 21171   7.2500     U           0           0           1  \n1          PC 17599  71.2833   C85           1           0           0  \n2  STON/O2. 3101282   7.9250     U           0           0           1  \n3            113803  53.1000  C123           0           0           1  \n4            373450   8.0500     U           0           0           1  ",
      "text/html": "<div>\n<style scoped>\n    .dataframe tbody tr th:only-of-type {\n        vertical-align: middle;\n    }\n\n    .dataframe tbody tr th {\n        vertical-align: top;\n    }\n\n    .dataframe thead th {\n        text-align: right;\n    }\n</style>\n<table border=\"1\" class=\"dataframe\">\n  <thead>\n    <tr style=\"text-align: right;\">\n      <th></th>\n      <th>PassengerId</th>\n      <th>Survived</th>\n      <th>Pclass</th>\n      <th>Name</th>\n      <th>Sex</th>\n      <th>Age</th>\n      <th>SibSp</th>\n      <th>Parch</th>\n      <th>Ticket</th>\n      <th>Fare</th>\n      <th>Cabin</th>\n      <th>Embarked_C</th>\n      <th>Embarked_Q</th>\n      <th>Embarked_S</th>\n    </tr>\n  </thead>\n  <tbody>\n    <tr>\n      <th>0</th>\n      <td>1</td>\n      <td>0.0</td>\n      <td>3</td>\n      <td>Braund, Mr. Owen Harris</td>\n      <td>NaN</td>\n      <td>22.0</td>\n      <td>1</td>\n      <td>0</td>\n      <td>A/5 21171</td>\n      <td>7.2500</td>\n      <td>U</td>\n      <td>0</td>\n      <td>0</td>\n      <td>1</td>\n    </tr>\n    <tr>\n      <th>1</th>\n      <td>2</td>\n      <td>1.0</td>\n      <td>1</td>\n      <td>Cumings, Mrs. John Bradley (Florence Briggs Th...</td>\n      <td>NaN</td>\n      <td>38.0</td>\n      <td>1</td>\n      <td>0</td>\n      <td>PC 17599</td>\n      <td>71.2833</td>\n      <td>C85</td>\n      <td>1</td>\n      <td>0</td>\n      <td>0</td>\n    </tr>\n    <tr>\n      <th>2</th>\n      <td>3</td>\n      <td>1.0</td>\n      <td>3</td>\n      <td>Heikkinen, Miss. Laina</td>\n      <td>NaN</td>\n      <td>26.0</td>\n      <td>0</td>\n      <td>0</td>\n      <td>STON/O2. 3101282</td>\n      <td>7.9250</td>\n      <td>U</td>\n      <td>0</td>\n      <td>0</td>\n      <td>1</td>\n    </tr>\n    <tr>\n      <th>3</th>\n      <td>4</td>\n      <td>1.0</td>\n      <td>1</td>\n      <td>Futrelle, Mrs. Jacques Heath (Lily May Peel)</td>\n      <td>NaN</td>\n      <td>35.0</td>\n      <td>1</td>\n      <td>0</td>\n      <td>113803</td>\n      <td>53.1000</td>\n      <td>C123</td>\n      <td>0</td>\n      <td>0</td>\n      <td>1</td>\n    </tr>\n    <tr>\n      <th>4</th>\n      <td>5</td>\n      <td>0.0</td>\n      <td>3</td>\n      <td>Allen, Mr. William Henry</td>\n      <td>NaN</td>\n      <td>35.0</td>\n      <td>0</td>\n      <td>0</td>\n      <td>373450</td>\n      <td>8.0500</td>\n      <td>U</td>\n      <td>0</td>\n      <td>0</td>\n      <td>1</td>\n    </tr>\n  </tbody>\n</table>\n</div>"
     },
     "execution_count": 26,
     "metadata": {},
     "output_type": "execute_result"
    }
   ],
   "source": [
    "full=pd.concat([full,embarkedDF],axis=1)\n",
    "full.drop('Embarked',axis=1,inplace=True)\n",
    "full.head()"
   ]
  },
  {
   "cell_type": "code",
   "execution_count": 27,
   "id": "a908230e",
   "metadata": {
    "pycharm": {
     "name": "#%%\n"
    }
   },
   "outputs": [
    {
     "data": {
      "text/plain": "   Pclass_1  Pclass_2  Pclass_3\n0         0         0         1\n1         1         0         0\n2         0         0         1\n3         1         0         0\n4         0         0         1",
      "text/html": "<div>\n<style scoped>\n    .dataframe tbody tr th:only-of-type {\n        vertical-align: middle;\n    }\n\n    .dataframe tbody tr th {\n        vertical-align: top;\n    }\n\n    .dataframe thead th {\n        text-align: right;\n    }\n</style>\n<table border=\"1\" class=\"dataframe\">\n  <thead>\n    <tr style=\"text-align: right;\">\n      <th></th>\n      <th>Pclass_1</th>\n      <th>Pclass_2</th>\n      <th>Pclass_3</th>\n    </tr>\n  </thead>\n  <tbody>\n    <tr>\n      <th>0</th>\n      <td>0</td>\n      <td>0</td>\n      <td>1</td>\n    </tr>\n    <tr>\n      <th>1</th>\n      <td>1</td>\n      <td>0</td>\n      <td>0</td>\n    </tr>\n    <tr>\n      <th>2</th>\n      <td>0</td>\n      <td>0</td>\n      <td>1</td>\n    </tr>\n    <tr>\n      <th>3</th>\n      <td>1</td>\n      <td>0</td>\n      <td>0</td>\n    </tr>\n    <tr>\n      <th>4</th>\n      <td>0</td>\n      <td>0</td>\n      <td>1</td>\n    </tr>\n  </tbody>\n</table>\n</div>"
     },
     "execution_count": 27,
     "metadata": {},
     "output_type": "execute_result"
    }
   ],
   "source": [
    "pclassDf=pd.DataFrame()\n",
    "pclassDf=pd.get_dummies(full['Pclass'],prefix='Pclass')\n",
    "pclassDf.head()"
   ]
  },
  {
   "cell_type": "code",
   "execution_count": 28,
   "id": "e860f6a4",
   "metadata": {
    "pycharm": {
     "name": "#%%\n"
    }
   },
   "outputs": [
    {
     "data": {
      "text/plain": "   PassengerId  Survived                                               Name  \\\n0            1       0.0                            Braund, Mr. Owen Harris   \n1            2       1.0  Cumings, Mrs. John Bradley (Florence Briggs Th...   \n2            3       1.0                             Heikkinen, Miss. Laina   \n3            4       1.0       Futrelle, Mrs. Jacques Heath (Lily May Peel)   \n4            5       0.0                           Allen, Mr. William Henry   \n\n   Sex   Age  SibSp  Parch            Ticket     Fare Cabin  Embarked_C  \\\n0  NaN  22.0      1      0         A/5 21171   7.2500     U           0   \n1  NaN  38.0      1      0          PC 17599  71.2833   C85           1   \n2  NaN  26.0      0      0  STON/O2. 3101282   7.9250     U           0   \n3  NaN  35.0      1      0            113803  53.1000  C123           0   \n4  NaN  35.0      0      0            373450   8.0500     U           0   \n\n   Embarked_Q  Embarked_S  Pclass_1  Pclass_2  Pclass_3  \n0           0           1         0         0         1  \n1           0           0         1         0         0  \n2           0           1         0         0         1  \n3           0           1         1         0         0  \n4           0           1         0         0         1  ",
      "text/html": "<div>\n<style scoped>\n    .dataframe tbody tr th:only-of-type {\n        vertical-align: middle;\n    }\n\n    .dataframe tbody tr th {\n        vertical-align: top;\n    }\n\n    .dataframe thead th {\n        text-align: right;\n    }\n</style>\n<table border=\"1\" class=\"dataframe\">\n  <thead>\n    <tr style=\"text-align: right;\">\n      <th></th>\n      <th>PassengerId</th>\n      <th>Survived</th>\n      <th>Name</th>\n      <th>Sex</th>\n      <th>Age</th>\n      <th>SibSp</th>\n      <th>Parch</th>\n      <th>Ticket</th>\n      <th>Fare</th>\n      <th>Cabin</th>\n      <th>Embarked_C</th>\n      <th>Embarked_Q</th>\n      <th>Embarked_S</th>\n      <th>Pclass_1</th>\n      <th>Pclass_2</th>\n      <th>Pclass_3</th>\n    </tr>\n  </thead>\n  <tbody>\n    <tr>\n      <th>0</th>\n      <td>1</td>\n      <td>0.0</td>\n      <td>Braund, Mr. Owen Harris</td>\n      <td>NaN</td>\n      <td>22.0</td>\n      <td>1</td>\n      <td>0</td>\n      <td>A/5 21171</td>\n      <td>7.2500</td>\n      <td>U</td>\n      <td>0</td>\n      <td>0</td>\n      <td>1</td>\n      <td>0</td>\n      <td>0</td>\n      <td>1</td>\n    </tr>\n    <tr>\n      <th>1</th>\n      <td>2</td>\n      <td>1.0</td>\n      <td>Cumings, Mrs. John Bradley (Florence Briggs Th...</td>\n      <td>NaN</td>\n      <td>38.0</td>\n      <td>1</td>\n      <td>0</td>\n      <td>PC 17599</td>\n      <td>71.2833</td>\n      <td>C85</td>\n      <td>1</td>\n      <td>0</td>\n      <td>0</td>\n      <td>1</td>\n      <td>0</td>\n      <td>0</td>\n    </tr>\n    <tr>\n      <th>2</th>\n      <td>3</td>\n      <td>1.0</td>\n      <td>Heikkinen, Miss. Laina</td>\n      <td>NaN</td>\n      <td>26.0</td>\n      <td>0</td>\n      <td>0</td>\n      <td>STON/O2. 3101282</td>\n      <td>7.9250</td>\n      <td>U</td>\n      <td>0</td>\n      <td>0</td>\n      <td>1</td>\n      <td>0</td>\n      <td>0</td>\n      <td>1</td>\n    </tr>\n    <tr>\n      <th>3</th>\n      <td>4</td>\n      <td>1.0</td>\n      <td>Futrelle, Mrs. Jacques Heath (Lily May Peel)</td>\n      <td>NaN</td>\n      <td>35.0</td>\n      <td>1</td>\n      <td>0</td>\n      <td>113803</td>\n      <td>53.1000</td>\n      <td>C123</td>\n      <td>0</td>\n      <td>0</td>\n      <td>1</td>\n      <td>1</td>\n      <td>0</td>\n      <td>0</td>\n    </tr>\n    <tr>\n      <th>4</th>\n      <td>5</td>\n      <td>0.0</td>\n      <td>Allen, Mr. William Henry</td>\n      <td>NaN</td>\n      <td>35.0</td>\n      <td>0</td>\n      <td>0</td>\n      <td>373450</td>\n      <td>8.0500</td>\n      <td>U</td>\n      <td>0</td>\n      <td>0</td>\n      <td>1</td>\n      <td>0</td>\n      <td>0</td>\n      <td>1</td>\n    </tr>\n  </tbody>\n</table>\n</div>"
     },
     "execution_count": 28,
     "metadata": {},
     "output_type": "execute_result"
    }
   ],
   "source": [
    "full=pd.concat([full,pclassDf],axis=1)\n",
    "full.drop('Pclass',axis=1,inplace=True)\n",
    "full.head()"
   ]
  },
  {
   "cell_type": "code",
   "execution_count": 29,
   "id": "414f0bf5",
   "metadata": {
    "pycharm": {
     "name": "#%%\n"
    }
   },
   "outputs": [
    {
     "data": {
      "text/plain": "0                              Braund, Mr. Owen Harris\n1    Cumings, Mrs. John Bradley (Florence Briggs Th...\n2                               Heikkinen, Miss. Laina\n3         Futrelle, Mrs. Jacques Heath (Lily May Peel)\n4                             Allen, Mr. William Henry\nName: Name, dtype: object"
     },
     "execution_count": 29,
     "metadata": {},
     "output_type": "execute_result"
    }
   ],
   "source": [
    "full['Name'].head()"
   ]
  },
  {
   "cell_type": "code",
   "execution_count": 30,
   "id": "d2a7ec1c",
   "metadata": {
    "pycharm": {
     "name": "#%%\n"
    }
   },
   "outputs": [
    {
     "data": {
      "text/plain": "  Title\n0    Mr\n1   Mrs\n2  Miss\n3   Mrs\n4    Mr",
      "text/html": "<div>\n<style scoped>\n    .dataframe tbody tr th:only-of-type {\n        vertical-align: middle;\n    }\n\n    .dataframe tbody tr th {\n        vertical-align: top;\n    }\n\n    .dataframe thead th {\n        text-align: right;\n    }\n</style>\n<table border=\"1\" class=\"dataframe\">\n  <thead>\n    <tr style=\"text-align: right;\">\n      <th></th>\n      <th>Title</th>\n    </tr>\n  </thead>\n  <tbody>\n    <tr>\n      <th>0</th>\n      <td>Mr</td>\n    </tr>\n    <tr>\n      <th>1</th>\n      <td>Mrs</td>\n    </tr>\n    <tr>\n      <th>2</th>\n      <td>Miss</td>\n    </tr>\n    <tr>\n      <th>3</th>\n      <td>Mrs</td>\n    </tr>\n    <tr>\n      <th>4</th>\n      <td>Mr</td>\n    </tr>\n  </tbody>\n</table>\n</div>"
     },
     "execution_count": 30,
     "metadata": {},
     "output_type": "execute_result"
    }
   ],
   "source": [
    "def getTitle(Name):\n",
    "    str1=Name.split(',')[1]\n",
    "    str2=str1.split('.')[0]\n",
    "    str3=str2.strip()\n",
    "    return str3\n",
    "titleDf=pd.DataFrame()\n",
    "titleDf['Title']=full['Name'].map(getTitle)\n",
    "titleDf.head()"
   ]
  },
  {
   "cell_type": "code",
   "execution_count": 31,
   "id": "141962b2",
   "metadata": {
    "pycharm": {
     "name": "#%%\n"
    }
   },
   "outputs": [
    {
     "data": {
      "text/plain": "     Title\n0       Mr\n1      Mrs\n2     Miss\n3      Mrs\n4       Mr\n5       Mr\n6       Mr\n7   Master\n8      Mrs\n9      Mrs\n10    Miss\n11    Miss\n12      Mr\n13      Mr\n14    Miss\n15     Mrs\n16  Master\n17      Mr\n18     Mrs\n19     Mrs",
      "text/html": "<div>\n<style scoped>\n    .dataframe tbody tr th:only-of-type {\n        vertical-align: middle;\n    }\n\n    .dataframe tbody tr th {\n        vertical-align: top;\n    }\n\n    .dataframe thead th {\n        text-align: right;\n    }\n</style>\n<table border=\"1\" class=\"dataframe\">\n  <thead>\n    <tr style=\"text-align: right;\">\n      <th></th>\n      <th>Title</th>\n    </tr>\n  </thead>\n  <tbody>\n    <tr>\n      <th>0</th>\n      <td>Mr</td>\n    </tr>\n    <tr>\n      <th>1</th>\n      <td>Mrs</td>\n    </tr>\n    <tr>\n      <th>2</th>\n      <td>Miss</td>\n    </tr>\n    <tr>\n      <th>3</th>\n      <td>Mrs</td>\n    </tr>\n    <tr>\n      <th>4</th>\n      <td>Mr</td>\n    </tr>\n    <tr>\n      <th>5</th>\n      <td>Mr</td>\n    </tr>\n    <tr>\n      <th>6</th>\n      <td>Mr</td>\n    </tr>\n    <tr>\n      <th>7</th>\n      <td>Master</td>\n    </tr>\n    <tr>\n      <th>8</th>\n      <td>Mrs</td>\n    </tr>\n    <tr>\n      <th>9</th>\n      <td>Mrs</td>\n    </tr>\n    <tr>\n      <th>10</th>\n      <td>Miss</td>\n    </tr>\n    <tr>\n      <th>11</th>\n      <td>Miss</td>\n    </tr>\n    <tr>\n      <th>12</th>\n      <td>Mr</td>\n    </tr>\n    <tr>\n      <th>13</th>\n      <td>Mr</td>\n    </tr>\n    <tr>\n      <th>14</th>\n      <td>Miss</td>\n    </tr>\n    <tr>\n      <th>15</th>\n      <td>Mrs</td>\n    </tr>\n    <tr>\n      <th>16</th>\n      <td>Master</td>\n    </tr>\n    <tr>\n      <th>17</th>\n      <td>Mr</td>\n    </tr>\n    <tr>\n      <th>18</th>\n      <td>Mrs</td>\n    </tr>\n    <tr>\n      <th>19</th>\n      <td>Mrs</td>\n    </tr>\n  </tbody>\n</table>\n</div>"
     },
     "execution_count": 31,
     "metadata": {},
     "output_type": "execute_result"
    }
   ],
   "source": [
    "titleDf.head(20)"
   ]
  },
  {
   "cell_type": "code",
   "execution_count": 32,
   "id": "cb403f74",
   "metadata": {
    "pycharm": {
     "name": "#%%\n"
    }
   },
   "outputs": [
    {
     "data": {
      "text/plain": "   Master  Miss  Mr  Mrs  Officer  Royalty\n0       0     0   1    0        0        0\n1       0     0   0    1        0        0\n2       0     1   0    0        0        0\n3       0     0   0    1        0        0\n4       0     0   1    0        0        0",
      "text/html": "<div>\n<style scoped>\n    .dataframe tbody tr th:only-of-type {\n        vertical-align: middle;\n    }\n\n    .dataframe tbody tr th {\n        vertical-align: top;\n    }\n\n    .dataframe thead th {\n        text-align: right;\n    }\n</style>\n<table border=\"1\" class=\"dataframe\">\n  <thead>\n    <tr style=\"text-align: right;\">\n      <th></th>\n      <th>Master</th>\n      <th>Miss</th>\n      <th>Mr</th>\n      <th>Mrs</th>\n      <th>Officer</th>\n      <th>Royalty</th>\n    </tr>\n  </thead>\n  <tbody>\n    <tr>\n      <th>0</th>\n      <td>0</td>\n      <td>0</td>\n      <td>1</td>\n      <td>0</td>\n      <td>0</td>\n      <td>0</td>\n    </tr>\n    <tr>\n      <th>1</th>\n      <td>0</td>\n      <td>0</td>\n      <td>0</td>\n      <td>1</td>\n      <td>0</td>\n      <td>0</td>\n    </tr>\n    <tr>\n      <th>2</th>\n      <td>0</td>\n      <td>1</td>\n      <td>0</td>\n      <td>0</td>\n      <td>0</td>\n      <td>0</td>\n    </tr>\n    <tr>\n      <th>3</th>\n      <td>0</td>\n      <td>0</td>\n      <td>0</td>\n      <td>1</td>\n      <td>0</td>\n      <td>0</td>\n    </tr>\n    <tr>\n      <th>4</th>\n      <td>0</td>\n      <td>0</td>\n      <td>1</td>\n      <td>0</td>\n      <td>0</td>\n      <td>0</td>\n    </tr>\n  </tbody>\n</table>\n</div>"
     },
     "execution_count": 32,
     "metadata": {},
     "output_type": "execute_result"
    }
   ],
   "source": [
    "title_mapDict={\n",
    "    'Capt':'Officer', \n",
    "    'Col':'Officer', \n",
    "    'Major':'Officer', \n",
    "    'Jonkheer':'Royalty',  \n",
    "    'Dona':'Royalty', \n",
    "    'Sir':'Royalty',  \n",
    "    'Dr':'Officer',  \n",
    "    'Rev':'Officer', \n",
    "    'the Countess':'Royalty',  \n",
    "    'Mme':'Mrs', \n",
    "    'Mlle':'Miss', \n",
    "    'Ms':'Mrs',  \n",
    "    'Mr':'Mr', \n",
    "    'Mrs':'Mrs', \n",
    "    'Miss':'Miss', \n",
    "    'Master':'Master', \n",
    "    'Lady':'Royalty'\n",
    "}\n",
    "titleDf['Title']=titleDf['Title'].map(title_mapDict)\n",
    "titleDf=pd.get_dummies(titleDf['Title'])\n",
    "titleDf.head()"
   ]
  },
  {
   "cell_type": "code",
   "execution_count": 33,
   "id": "91121dc9",
   "metadata": {
    "pycharm": {
     "name": "#%%\n"
    }
   },
   "outputs": [
    {
     "data": {
      "text/plain": "   PassengerId  Survived  Sex   Age  SibSp  Parch            Ticket     Fare  \\\n0            1       0.0  NaN  22.0      1      0         A/5 21171   7.2500   \n1            2       1.0  NaN  38.0      1      0          PC 17599  71.2833   \n2            3       1.0  NaN  26.0      0      0  STON/O2. 3101282   7.9250   \n3            4       1.0  NaN  35.0      1      0            113803  53.1000   \n4            5       0.0  NaN  35.0      0      0            373450   8.0500   \n\n  Cabin  Embarked_C  ...  Embarked_S  Pclass_1  Pclass_2  Pclass_3  Master  \\\n0     U           0  ...           1         0         0         1       0   \n1   C85           1  ...           0         1         0         0       0   \n2     U           0  ...           1         0         0         1       0   \n3  C123           0  ...           1         1         0         0       0   \n4     U           0  ...           1         0         0         1       0   \n\n   Miss  Mr  Mrs  Officer  Royalty  \n0     0   1    0        0        0  \n1     0   0    1        0        0  \n2     1   0    0        0        0  \n3     0   0    1        0        0  \n4     0   1    0        0        0  \n\n[5 rows x 21 columns]",
      "text/html": "<div>\n<style scoped>\n    .dataframe tbody tr th:only-of-type {\n        vertical-align: middle;\n    }\n\n    .dataframe tbody tr th {\n        vertical-align: top;\n    }\n\n    .dataframe thead th {\n        text-align: right;\n    }\n</style>\n<table border=\"1\" class=\"dataframe\">\n  <thead>\n    <tr style=\"text-align: right;\">\n      <th></th>\n      <th>PassengerId</th>\n      <th>Survived</th>\n      <th>Sex</th>\n      <th>Age</th>\n      <th>SibSp</th>\n      <th>Parch</th>\n      <th>Ticket</th>\n      <th>Fare</th>\n      <th>Cabin</th>\n      <th>Embarked_C</th>\n      <th>...</th>\n      <th>Embarked_S</th>\n      <th>Pclass_1</th>\n      <th>Pclass_2</th>\n      <th>Pclass_3</th>\n      <th>Master</th>\n      <th>Miss</th>\n      <th>Mr</th>\n      <th>Mrs</th>\n      <th>Officer</th>\n      <th>Royalty</th>\n    </tr>\n  </thead>\n  <tbody>\n    <tr>\n      <th>0</th>\n      <td>1</td>\n      <td>0.0</td>\n      <td>NaN</td>\n      <td>22.0</td>\n      <td>1</td>\n      <td>0</td>\n      <td>A/5 21171</td>\n      <td>7.2500</td>\n      <td>U</td>\n      <td>0</td>\n      <td>...</td>\n      <td>1</td>\n      <td>0</td>\n      <td>0</td>\n      <td>1</td>\n      <td>0</td>\n      <td>0</td>\n      <td>1</td>\n      <td>0</td>\n      <td>0</td>\n      <td>0</td>\n    </tr>\n    <tr>\n      <th>1</th>\n      <td>2</td>\n      <td>1.0</td>\n      <td>NaN</td>\n      <td>38.0</td>\n      <td>1</td>\n      <td>0</td>\n      <td>PC 17599</td>\n      <td>71.2833</td>\n      <td>C85</td>\n      <td>1</td>\n      <td>...</td>\n      <td>0</td>\n      <td>1</td>\n      <td>0</td>\n      <td>0</td>\n      <td>0</td>\n      <td>0</td>\n      <td>0</td>\n      <td>1</td>\n      <td>0</td>\n      <td>0</td>\n    </tr>\n    <tr>\n      <th>2</th>\n      <td>3</td>\n      <td>1.0</td>\n      <td>NaN</td>\n      <td>26.0</td>\n      <td>0</td>\n      <td>0</td>\n      <td>STON/O2. 3101282</td>\n      <td>7.9250</td>\n      <td>U</td>\n      <td>0</td>\n      <td>...</td>\n      <td>1</td>\n      <td>0</td>\n      <td>0</td>\n      <td>1</td>\n      <td>0</td>\n      <td>1</td>\n      <td>0</td>\n      <td>0</td>\n      <td>0</td>\n      <td>0</td>\n    </tr>\n    <tr>\n      <th>3</th>\n      <td>4</td>\n      <td>1.0</td>\n      <td>NaN</td>\n      <td>35.0</td>\n      <td>1</td>\n      <td>0</td>\n      <td>113803</td>\n      <td>53.1000</td>\n      <td>C123</td>\n      <td>0</td>\n      <td>...</td>\n      <td>1</td>\n      <td>1</td>\n      <td>0</td>\n      <td>0</td>\n      <td>0</td>\n      <td>0</td>\n      <td>0</td>\n      <td>1</td>\n      <td>0</td>\n      <td>0</td>\n    </tr>\n    <tr>\n      <th>4</th>\n      <td>5</td>\n      <td>0.0</td>\n      <td>NaN</td>\n      <td>35.0</td>\n      <td>0</td>\n      <td>0</td>\n      <td>373450</td>\n      <td>8.0500</td>\n      <td>U</td>\n      <td>0</td>\n      <td>...</td>\n      <td>1</td>\n      <td>0</td>\n      <td>0</td>\n      <td>1</td>\n      <td>0</td>\n      <td>0</td>\n      <td>1</td>\n      <td>0</td>\n      <td>0</td>\n      <td>0</td>\n    </tr>\n  </tbody>\n</table>\n<p>5 rows × 21 columns</p>\n</div>"
     },
     "execution_count": 33,
     "metadata": {},
     "output_type": "execute_result"
    }
   ],
   "source": [
    "full=pd.concat([full,titleDf],axis=1)\n",
    "full.drop('Name',axis=1,inplace=True)\n",
    "full.head()"
   ]
  },
  {
   "cell_type": "code",
   "execution_count": 34,
   "id": "a9a0a7ba",
   "metadata": {
    "pycharm": {
     "name": "#%%\n"
    }
   },
   "outputs": [
    {
     "data": {
      "text/plain": "0       U\n1     C85\n2       U\n3    C123\n4       U\nName: Cabin, dtype: object"
     },
     "execution_count": 34,
     "metadata": {},
     "output_type": "execute_result"
    }
   ],
   "source": [
    "full['Cabin'].head()"
   ]
  },
  {
   "cell_type": "code",
   "execution_count": 35,
   "id": "4176df2a",
   "metadata": {
    "pycharm": {
     "name": "#%%\n"
    }
   },
   "outputs": [
    {
     "data": {
      "text/plain": "   Cabin_A  Cabin_B  Cabin_C  Cabin_D  Cabin_E  Cabin_F  Cabin_G  Cabin_T  \\\n0        0        0        0        0        0        0        0        0   \n1        0        0        1        0        0        0        0        0   \n2        0        0        0        0        0        0        0        0   \n3        0        0        1        0        0        0        0        0   \n4        0        0        0        0        0        0        0        0   \n\n   Cabin_U  \n0        1  \n1        0  \n2        1  \n3        0  \n4        1  ",
      "text/html": "<div>\n<style scoped>\n    .dataframe tbody tr th:only-of-type {\n        vertical-align: middle;\n    }\n\n    .dataframe tbody tr th {\n        vertical-align: top;\n    }\n\n    .dataframe thead th {\n        text-align: right;\n    }\n</style>\n<table border=\"1\" class=\"dataframe\">\n  <thead>\n    <tr style=\"text-align: right;\">\n      <th></th>\n      <th>Cabin_A</th>\n      <th>Cabin_B</th>\n      <th>Cabin_C</th>\n      <th>Cabin_D</th>\n      <th>Cabin_E</th>\n      <th>Cabin_F</th>\n      <th>Cabin_G</th>\n      <th>Cabin_T</th>\n      <th>Cabin_U</th>\n    </tr>\n  </thead>\n  <tbody>\n    <tr>\n      <th>0</th>\n      <td>0</td>\n      <td>0</td>\n      <td>0</td>\n      <td>0</td>\n      <td>0</td>\n      <td>0</td>\n      <td>0</td>\n      <td>0</td>\n      <td>1</td>\n    </tr>\n    <tr>\n      <th>1</th>\n      <td>0</td>\n      <td>0</td>\n      <td>1</td>\n      <td>0</td>\n      <td>0</td>\n      <td>0</td>\n      <td>0</td>\n      <td>0</td>\n      <td>0</td>\n    </tr>\n    <tr>\n      <th>2</th>\n      <td>0</td>\n      <td>0</td>\n      <td>0</td>\n      <td>0</td>\n      <td>0</td>\n      <td>0</td>\n      <td>0</td>\n      <td>0</td>\n      <td>1</td>\n    </tr>\n    <tr>\n      <th>3</th>\n      <td>0</td>\n      <td>0</td>\n      <td>1</td>\n      <td>0</td>\n      <td>0</td>\n      <td>0</td>\n      <td>0</td>\n      <td>0</td>\n      <td>0</td>\n    </tr>\n    <tr>\n      <th>4</th>\n      <td>0</td>\n      <td>0</td>\n      <td>0</td>\n      <td>0</td>\n      <td>0</td>\n      <td>0</td>\n      <td>0</td>\n      <td>0</td>\n      <td>1</td>\n    </tr>\n  </tbody>\n</table>\n</div>"
     },
     "execution_count": 35,
     "metadata": {},
     "output_type": "execute_result"
    }
   ],
   "source": [
    "cabinDf=pd.DataFrame()\n",
    "full['Cabin']=full['Cabin'].map(lambda c:c[0])\n",
    "cabinDf=pd.get_dummies(full['Cabin'],prefix='Cabin')\n",
    "cabinDf.head()"
   ]
  },
  {
   "cell_type": "code",
   "execution_count": 36,
   "id": "4a6b698d",
   "metadata": {
    "pycharm": {
     "name": "#%%\n"
    }
   },
   "outputs": [
    {
     "data": {
      "text/plain": "   PassengerId  Survived  Sex   Age  SibSp  Parch            Ticket     Fare  \\\n0            1       0.0  NaN  22.0      1      0         A/5 21171   7.2500   \n1            2       1.0  NaN  38.0      1      0          PC 17599  71.2833   \n2            3       1.0  NaN  26.0      0      0  STON/O2. 3101282   7.9250   \n3            4       1.0  NaN  35.0      1      0            113803  53.1000   \n4            5       0.0  NaN  35.0      0      0            373450   8.0500   \n\n   Embarked_C  Embarked_Q  ...  Royalty  Cabin_A  Cabin_B  Cabin_C  Cabin_D  \\\n0           0           0  ...        0        0        0        0        0   \n1           1           0  ...        0        0        0        1        0   \n2           0           0  ...        0        0        0        0        0   \n3           0           0  ...        0        0        0        1        0   \n4           0           0  ...        0        0        0        0        0   \n\n   Cabin_E  Cabin_F  Cabin_G  Cabin_T  Cabin_U  \n0        0        0        0        0        1  \n1        0        0        0        0        0  \n2        0        0        0        0        1  \n3        0        0        0        0        0  \n4        0        0        0        0        1  \n\n[5 rows x 29 columns]",
      "text/html": "<div>\n<style scoped>\n    .dataframe tbody tr th:only-of-type {\n        vertical-align: middle;\n    }\n\n    .dataframe tbody tr th {\n        vertical-align: top;\n    }\n\n    .dataframe thead th {\n        text-align: right;\n    }\n</style>\n<table border=\"1\" class=\"dataframe\">\n  <thead>\n    <tr style=\"text-align: right;\">\n      <th></th>\n      <th>PassengerId</th>\n      <th>Survived</th>\n      <th>Sex</th>\n      <th>Age</th>\n      <th>SibSp</th>\n      <th>Parch</th>\n      <th>Ticket</th>\n      <th>Fare</th>\n      <th>Embarked_C</th>\n      <th>Embarked_Q</th>\n      <th>...</th>\n      <th>Royalty</th>\n      <th>Cabin_A</th>\n      <th>Cabin_B</th>\n      <th>Cabin_C</th>\n      <th>Cabin_D</th>\n      <th>Cabin_E</th>\n      <th>Cabin_F</th>\n      <th>Cabin_G</th>\n      <th>Cabin_T</th>\n      <th>Cabin_U</th>\n    </tr>\n  </thead>\n  <tbody>\n    <tr>\n      <th>0</th>\n      <td>1</td>\n      <td>0.0</td>\n      <td>NaN</td>\n      <td>22.0</td>\n      <td>1</td>\n      <td>0</td>\n      <td>A/5 21171</td>\n      <td>7.2500</td>\n      <td>0</td>\n      <td>0</td>\n      <td>...</td>\n      <td>0</td>\n      <td>0</td>\n      <td>0</td>\n      <td>0</td>\n      <td>0</td>\n      <td>0</td>\n      <td>0</td>\n      <td>0</td>\n      <td>0</td>\n      <td>1</td>\n    </tr>\n    <tr>\n      <th>1</th>\n      <td>2</td>\n      <td>1.0</td>\n      <td>NaN</td>\n      <td>38.0</td>\n      <td>1</td>\n      <td>0</td>\n      <td>PC 17599</td>\n      <td>71.2833</td>\n      <td>1</td>\n      <td>0</td>\n      <td>...</td>\n      <td>0</td>\n      <td>0</td>\n      <td>0</td>\n      <td>1</td>\n      <td>0</td>\n      <td>0</td>\n      <td>0</td>\n      <td>0</td>\n      <td>0</td>\n      <td>0</td>\n    </tr>\n    <tr>\n      <th>2</th>\n      <td>3</td>\n      <td>1.0</td>\n      <td>NaN</td>\n      <td>26.0</td>\n      <td>0</td>\n      <td>0</td>\n      <td>STON/O2. 3101282</td>\n      <td>7.9250</td>\n      <td>0</td>\n      <td>0</td>\n      <td>...</td>\n      <td>0</td>\n      <td>0</td>\n      <td>0</td>\n      <td>0</td>\n      <td>0</td>\n      <td>0</td>\n      <td>0</td>\n      <td>0</td>\n      <td>0</td>\n      <td>1</td>\n    </tr>\n    <tr>\n      <th>3</th>\n      <td>4</td>\n      <td>1.0</td>\n      <td>NaN</td>\n      <td>35.0</td>\n      <td>1</td>\n      <td>0</td>\n      <td>113803</td>\n      <td>53.1000</td>\n      <td>0</td>\n      <td>0</td>\n      <td>...</td>\n      <td>0</td>\n      <td>0</td>\n      <td>0</td>\n      <td>1</td>\n      <td>0</td>\n      <td>0</td>\n      <td>0</td>\n      <td>0</td>\n      <td>0</td>\n      <td>0</td>\n    </tr>\n    <tr>\n      <th>4</th>\n      <td>5</td>\n      <td>0.0</td>\n      <td>NaN</td>\n      <td>35.0</td>\n      <td>0</td>\n      <td>0</td>\n      <td>373450</td>\n      <td>8.0500</td>\n      <td>0</td>\n      <td>0</td>\n      <td>...</td>\n      <td>0</td>\n      <td>0</td>\n      <td>0</td>\n      <td>0</td>\n      <td>0</td>\n      <td>0</td>\n      <td>0</td>\n      <td>0</td>\n      <td>0</td>\n      <td>1</td>\n    </tr>\n  </tbody>\n</table>\n<p>5 rows × 29 columns</p>\n</div>"
     },
     "execution_count": 36,
     "metadata": {},
     "output_type": "execute_result"
    }
   ],
   "source": [
    "full=pd.concat([full,cabinDf],axis=1)\n",
    "full.drop('Cabin',axis=1,inplace=True)\n",
    "full.head()"
   ]
  },
  {
   "cell_type": "code",
   "execution_count": 37,
   "id": "c7990295",
   "metadata": {
    "pycharm": {
     "name": "#%%\n"
    }
   },
   "outputs": [
    {
     "data": {
      "text/plain": "   FamilySize  family_Single  family_Small  family_Large\n0           2              0             1             0\n1           2              0             1             0\n2           1              1             0             0\n3           2              0             1             0\n4           1              1             0             0",
      "text/html": "<div>\n<style scoped>\n    .dataframe tbody tr th:only-of-type {\n        vertical-align: middle;\n    }\n\n    .dataframe tbody tr th {\n        vertical-align: top;\n    }\n\n    .dataframe thead th {\n        text-align: right;\n    }\n</style>\n<table border=\"1\" class=\"dataframe\">\n  <thead>\n    <tr style=\"text-align: right;\">\n      <th></th>\n      <th>FamilySize</th>\n      <th>family_Single</th>\n      <th>family_Small</th>\n      <th>family_Large</th>\n    </tr>\n  </thead>\n  <tbody>\n    <tr>\n      <th>0</th>\n      <td>2</td>\n      <td>0</td>\n      <td>1</td>\n      <td>0</td>\n    </tr>\n    <tr>\n      <th>1</th>\n      <td>2</td>\n      <td>0</td>\n      <td>1</td>\n      <td>0</td>\n    </tr>\n    <tr>\n      <th>2</th>\n      <td>1</td>\n      <td>1</td>\n      <td>0</td>\n      <td>0</td>\n    </tr>\n    <tr>\n      <th>3</th>\n      <td>2</td>\n      <td>0</td>\n      <td>1</td>\n      <td>0</td>\n    </tr>\n    <tr>\n      <th>4</th>\n      <td>1</td>\n      <td>1</td>\n      <td>0</td>\n      <td>0</td>\n    </tr>\n  </tbody>\n</table>\n</div>"
     },
     "execution_count": 37,
     "metadata": {},
     "output_type": "execute_result"
    }
   ],
   "source": [
    "familyDf=pd.DataFrame()\n",
    "familyDf['FamilySize']=full['Parch']+full['SibSp']+1\n",
    "familyDf['family_Single']=familyDf['FamilySize'].map(lambda s:1 if s==1 else 0)\n",
    "familyDf['family_Small']=familyDf['FamilySize'].map(lambda s:1 if 2<=s<=4 else 0)\n",
    "familyDf['family_Large']=familyDf['FamilySize'].map(lambda s:1 if s>=5 else 0)\n",
    "familyDf.head()"
   ]
  },
  {
   "cell_type": "code",
   "execution_count": 38,
   "id": "15b4da45",
   "metadata": {
    "pycharm": {
     "name": "#%%\n"
    }
   },
   "outputs": [
    {
     "data": {
      "text/plain": "   PassengerId  Survived  Sex   Age  SibSp  Parch            Ticket     Fare  \\\n0            1       0.0  NaN  22.0      1      0         A/5 21171   7.2500   \n1            2       1.0  NaN  38.0      1      0          PC 17599  71.2833   \n2            3       1.0  NaN  26.0      0      0  STON/O2. 3101282   7.9250   \n3            4       1.0  NaN  35.0      1      0            113803  53.1000   \n4            5       0.0  NaN  35.0      0      0            373450   8.0500   \n\n   Embarked_C  Embarked_Q  ...  Cabin_D  Cabin_E  Cabin_F  Cabin_G  Cabin_T  \\\n0           0           0  ...        0        0        0        0        0   \n1           1           0  ...        0        0        0        0        0   \n2           0           0  ...        0        0        0        0        0   \n3           0           0  ...        0        0        0        0        0   \n4           0           0  ...        0        0        0        0        0   \n\n   Cabin_U  FamilySize  family_Single  family_Small  family_Large  \n0        1           2              0             1             0  \n1        0           2              0             1             0  \n2        1           1              1             0             0  \n3        0           2              0             1             0  \n4        1           1              1             0             0  \n\n[5 rows x 33 columns]",
      "text/html": "<div>\n<style scoped>\n    .dataframe tbody tr th:only-of-type {\n        vertical-align: middle;\n    }\n\n    .dataframe tbody tr th {\n        vertical-align: top;\n    }\n\n    .dataframe thead th {\n        text-align: right;\n    }\n</style>\n<table border=\"1\" class=\"dataframe\">\n  <thead>\n    <tr style=\"text-align: right;\">\n      <th></th>\n      <th>PassengerId</th>\n      <th>Survived</th>\n      <th>Sex</th>\n      <th>Age</th>\n      <th>SibSp</th>\n      <th>Parch</th>\n      <th>Ticket</th>\n      <th>Fare</th>\n      <th>Embarked_C</th>\n      <th>Embarked_Q</th>\n      <th>...</th>\n      <th>Cabin_D</th>\n      <th>Cabin_E</th>\n      <th>Cabin_F</th>\n      <th>Cabin_G</th>\n      <th>Cabin_T</th>\n      <th>Cabin_U</th>\n      <th>FamilySize</th>\n      <th>family_Single</th>\n      <th>family_Small</th>\n      <th>family_Large</th>\n    </tr>\n  </thead>\n  <tbody>\n    <tr>\n      <th>0</th>\n      <td>1</td>\n      <td>0.0</td>\n      <td>NaN</td>\n      <td>22.0</td>\n      <td>1</td>\n      <td>0</td>\n      <td>A/5 21171</td>\n      <td>7.2500</td>\n      <td>0</td>\n      <td>0</td>\n      <td>...</td>\n      <td>0</td>\n      <td>0</td>\n      <td>0</td>\n      <td>0</td>\n      <td>0</td>\n      <td>1</td>\n      <td>2</td>\n      <td>0</td>\n      <td>1</td>\n      <td>0</td>\n    </tr>\n    <tr>\n      <th>1</th>\n      <td>2</td>\n      <td>1.0</td>\n      <td>NaN</td>\n      <td>38.0</td>\n      <td>1</td>\n      <td>0</td>\n      <td>PC 17599</td>\n      <td>71.2833</td>\n      <td>1</td>\n      <td>0</td>\n      <td>...</td>\n      <td>0</td>\n      <td>0</td>\n      <td>0</td>\n      <td>0</td>\n      <td>0</td>\n      <td>0</td>\n      <td>2</td>\n      <td>0</td>\n      <td>1</td>\n      <td>0</td>\n    </tr>\n    <tr>\n      <th>2</th>\n      <td>3</td>\n      <td>1.0</td>\n      <td>NaN</td>\n      <td>26.0</td>\n      <td>0</td>\n      <td>0</td>\n      <td>STON/O2. 3101282</td>\n      <td>7.9250</td>\n      <td>0</td>\n      <td>0</td>\n      <td>...</td>\n      <td>0</td>\n      <td>0</td>\n      <td>0</td>\n      <td>0</td>\n      <td>0</td>\n      <td>1</td>\n      <td>1</td>\n      <td>1</td>\n      <td>0</td>\n      <td>0</td>\n    </tr>\n    <tr>\n      <th>3</th>\n      <td>4</td>\n      <td>1.0</td>\n      <td>NaN</td>\n      <td>35.0</td>\n      <td>1</td>\n      <td>0</td>\n      <td>113803</td>\n      <td>53.1000</td>\n      <td>0</td>\n      <td>0</td>\n      <td>...</td>\n      <td>0</td>\n      <td>0</td>\n      <td>0</td>\n      <td>0</td>\n      <td>0</td>\n      <td>0</td>\n      <td>2</td>\n      <td>0</td>\n      <td>1</td>\n      <td>0</td>\n    </tr>\n    <tr>\n      <th>4</th>\n      <td>5</td>\n      <td>0.0</td>\n      <td>NaN</td>\n      <td>35.0</td>\n      <td>0</td>\n      <td>0</td>\n      <td>373450</td>\n      <td>8.0500</td>\n      <td>0</td>\n      <td>0</td>\n      <td>...</td>\n      <td>0</td>\n      <td>0</td>\n      <td>0</td>\n      <td>0</td>\n      <td>0</td>\n      <td>1</td>\n      <td>1</td>\n      <td>1</td>\n      <td>0</td>\n      <td>0</td>\n    </tr>\n  </tbody>\n</table>\n<p>5 rows × 33 columns</p>\n</div>"
     },
     "execution_count": 38,
     "metadata": {},
     "output_type": "execute_result"
    }
   ],
   "source": [
    "full=pd.concat([full,familyDf],axis=1)\n",
    "full.head()"
   ]
  },
  {
   "cell_type": "code",
   "execution_count": 47,
   "id": "a1d0565c",
   "metadata": {
    "pycharm": {
     "name": "#%%\n"
    }
   },
   "outputs": [
    {
     "data": {
      "text/plain": "(1309, 33)"
     },
     "execution_count": 47,
     "metadata": {},
     "output_type": "execute_result"
    }
   ],
   "source": [
    "full.shape"
   ]
  },
  {
   "cell_type": "code",
   "execution_count": 48,
   "id": "9591c97a",
   "metadata": {
    "pycharm": {
     "name": "#%%\n"
    }
   },
   "outputs": [
    {
     "data": {
      "text/plain": "               PassengerId  Survived  Sex       Age     SibSp     Parch  \\\nPassengerId       1.000000 -0.005007  NaN  0.025731 -0.055224  0.008942   \nSurvived         -0.005007  1.000000  NaN -0.070323 -0.035322  0.081629   \nSex                    NaN       NaN  NaN       NaN       NaN       NaN   \nAge               0.025731 -0.070323  NaN  1.000000 -0.190747 -0.130872   \nSibSp            -0.055224 -0.035322  NaN -0.190747  1.000000  0.373587   \nParch             0.008942  0.081629  NaN -0.130872  0.373587  1.000000   \nFare              0.031416  0.257307  NaN  0.171521  0.160224  0.221522   \nEmbarked_C        0.048101  0.168240  NaN  0.076179 -0.048396 -0.008635   \nEmbarked_Q        0.011585  0.003650  NaN -0.012718 -0.048678 -0.100943   \nEmbarked_S       -0.049836 -0.149683  NaN -0.059153  0.073709  0.071881   \nPclass_1          0.026495  0.285904  NaN  0.362587 -0.034256 -0.013033   \nPclass_2          0.022714  0.093349  NaN -0.014193 -0.052419 -0.010057   \nPclass_3         -0.041544 -0.322308  NaN -0.302093  0.072610  0.019521   \nMaster            0.002254  0.085221  NaN -0.363923  0.329171  0.253482   \nMiss             -0.050027  0.332795  NaN -0.254146  0.077564  0.066473   \nMr                0.014116 -0.549199  NaN  0.165476 -0.243104 -0.304780   \nMrs               0.033299  0.344935  NaN  0.198091  0.061643  0.213491   \nOfficer           0.002231 -0.031316  NaN  0.162818 -0.013813 -0.032631   \nRoyalty           0.025269  0.050561  NaN  0.055386 -0.005879 -0.027555   \nCabin_A          -0.002831  0.022287  NaN  0.125177 -0.039808 -0.030707   \nCabin_B           0.015895  0.175095  NaN  0.113458 -0.011569  0.073051   \nCabin_C           0.006092  0.114652  NaN  0.167993  0.048616  0.009601   \nCabin_D           0.000549  0.150716  NaN  0.132886 -0.015727 -0.027385   \nCabin_E          -0.008136  0.145321  NaN  0.106600 -0.027180  0.001084   \nCabin_F           0.000306  0.057935  NaN -0.072644 -0.008619  0.020481   \nCabin_G          -0.045949  0.016040  NaN -0.085977  0.006015  0.058325   \nCabin_T          -0.023049 -0.026456  NaN  0.032461 -0.013247 -0.012304   \nCabin_U           0.000208 -0.316912  NaN -0.271918  0.009064 -0.036806   \nFamilySize       -0.031437  0.016639  NaN -0.196996  0.861952  0.792296   \nfamily_Single     0.028546 -0.203367  NaN  0.116675 -0.591077 -0.549022   \nfamily_Small      0.002975  0.279855  NaN -0.038189  0.253590  0.248532   \nfamily_Large     -0.063415 -0.125147  NaN -0.161210  0.699681  0.624627   \n\n                   Fare  Embarked_C  Embarked_Q  Embarked_S  ...   Cabin_D  \\\nPassengerId    0.031416    0.048101    0.011585   -0.049836  ...  0.000549   \nSurvived       0.257307    0.168240    0.003650   -0.149683  ...  0.150716   \nSex                 NaN         NaN         NaN         NaN  ...       NaN   \nAge            0.171521    0.076179   -0.012718   -0.059153  ...  0.132886   \nSibSp          0.160224   -0.048396   -0.048678    0.073709  ... -0.015727   \nParch          0.221522   -0.008635   -0.100943    0.071881  ... -0.027385   \nFare           1.000000    0.286241   -0.130054   -0.169894  ...  0.072737   \nEmbarked_C     0.286241    1.000000   -0.164166   -0.778262  ...  0.107782   \nEmbarked_Q    -0.130054   -0.164166    1.000000   -0.491656  ... -0.061459   \nEmbarked_S    -0.169894   -0.778262   -0.491656    1.000000  ... -0.056023   \nPclass_1       0.599956    0.325722   -0.166101   -0.181800  ...  0.275698   \nPclass_2      -0.121372   -0.134675   -0.121973    0.196532  ... -0.037929   \nPclass_3      -0.419616   -0.171430    0.243706   -0.003805  ... -0.207455   \nMaster         0.011596   -0.014172   -0.009091    0.018297  ... -0.042192   \nMiss           0.092051   -0.014351    0.198804   -0.113886  ... -0.012516   \nMr            -0.192192   -0.065538   -0.080224    0.108924  ... -0.030261   \nMrs            0.139235    0.098379   -0.100374   -0.022950  ...  0.080393   \nOfficer        0.028696    0.003678   -0.003212   -0.001202  ...  0.006055   \nRoyalty        0.030040    0.060256   -0.019941   -0.040498  ... -0.011817   \nCabin_A        0.020094    0.094914   -0.042105   -0.056984  ... -0.024952   \nCabin_B        0.393743    0.161595   -0.073613   -0.095790  ... -0.043624   \nCabin_C        0.401370    0.158043   -0.059151   -0.101861  ... -0.053083   \nCabin_D        0.072737    0.107782   -0.061459   -0.056023  ...  1.000000   \nCabin_E        0.073949    0.027566   -0.042877    0.002960  ... -0.034317   \nCabin_F       -0.037567   -0.020010   -0.020282    0.030575  ... -0.024369   \nCabin_G       -0.022857   -0.031566   -0.019941    0.040560  ... -0.011817   \nCabin_T        0.001179   -0.014095   -0.008904    0.018111  ... -0.005277   \nCabin_U       -0.507197   -0.258257    0.142369    0.137351  ... -0.353822   \nFamilySize     0.226465   -0.036553   -0.087190    0.087771  ... -0.025313   \nfamily_Single -0.274826   -0.107874    0.127214    0.014246  ... -0.074310   \nfamily_Small   0.197281    0.159594   -0.122491   -0.062909  ...  0.102432   \nfamily_Large   0.170853   -0.092825   -0.018423    0.093671  ... -0.049336   \n\n                Cabin_E   Cabin_F   Cabin_G   Cabin_T   Cabin_U  FamilySize  \\\nPassengerId   -0.008136  0.000306 -0.045949 -0.023049  0.000208   -0.031437   \nSurvived       0.145321  0.057935  0.016040 -0.026456 -0.316912    0.016639   \nSex                 NaN       NaN       NaN       NaN       NaN         NaN   \nAge            0.106600 -0.072644 -0.085977  0.032461 -0.271918   -0.196996   \nSibSp         -0.027180 -0.008619  0.006015 -0.013247  0.009064    0.861952   \nParch          0.001084  0.020481  0.058325 -0.012304 -0.036806    0.792296   \nFare           0.073949 -0.037567 -0.022857  0.001179 -0.507197    0.226465   \nEmbarked_C     0.027566 -0.020010 -0.031566 -0.014095 -0.258257   -0.036553   \nEmbarked_Q    -0.042877 -0.020282 -0.019941 -0.008904  0.142369   -0.087190   \nEmbarked_S     0.002960  0.030575  0.040560  0.018111  0.137351    0.087771   \nPclass_1       0.242963 -0.073083 -0.035441  0.048310 -0.776987   -0.029656   \nPclass_2      -0.050210  0.127371 -0.032081 -0.014325  0.176485   -0.039976   \nPclass_3      -0.169063 -0.041178  0.056964 -0.030057  0.527614    0.058430   \nMaster         0.001860  0.058311 -0.013690 -0.006113  0.041178    0.355061   \nMiss           0.008700 -0.003088  0.061881 -0.013832 -0.004364    0.087350   \nMr            -0.032953 -0.026403 -0.072514  0.023611  0.131807   -0.326487   \nMrs            0.045538  0.013376  0.042547 -0.011742 -0.162253    0.157233   \nOfficer       -0.024048 -0.017076 -0.008281 -0.003698 -0.067030   -0.026921   \nRoyalty       -0.011135 -0.007907 -0.003834 -0.001712 -0.085163   -0.018928   \nCabin_A       -0.023510 -0.016695 -0.008096 -0.003615 -0.242399   -0.042967   \nCabin_B       -0.041103 -0.029188 -0.014154 -0.006320 -0.423794    0.032318   \nCabin_C       -0.050016 -0.035516 -0.017224 -0.007691 -0.515684    0.037226   \nCabin_D       -0.034317 -0.024369 -0.011817 -0.005277 -0.353822   -0.025313   \nCabin_E        1.000000 -0.022961 -0.011135 -0.004972 -0.333381   -0.017285   \nCabin_F       -0.022961  1.000000 -0.007907 -0.003531 -0.236733    0.005525   \nCabin_G       -0.011135 -0.007907  1.000000 -0.001712 -0.114803    0.035835   \nCabin_T       -0.004972 -0.003531 -0.001712  1.000000 -0.051263   -0.015438   \nCabin_U       -0.333381 -0.236733 -0.114803 -0.051263  1.000000   -0.014155   \nFamilySize    -0.017285  0.005525  0.035835 -0.015438 -0.014155    1.000000   \nfamily_Single -0.042535  0.004055 -0.076397  0.022411  0.175812   -0.688864   \nfamily_Small   0.068007  0.012756  0.087471 -0.019574 -0.211367    0.302640   \nfamily_Large  -0.046485 -0.033009 -0.016008 -0.007148  0.056438    0.801623   \n\n               family_Single  family_Small  family_Large  \nPassengerId         0.028546      0.002975     -0.063415  \nSurvived           -0.203367      0.279855     -0.125147  \nSex                      NaN           NaN           NaN  \nAge                 0.116675     -0.038189     -0.161210  \nSibSp              -0.591077      0.253590      0.699681  \nParch              -0.549022      0.248532      0.624627  \nFare               -0.274826      0.197281      0.170853  \nEmbarked_C         -0.107874      0.159594     -0.092825  \nEmbarked_Q          0.127214     -0.122491     -0.018423  \nEmbarked_S          0.014246     -0.062909      0.093671  \nPclass_1           -0.126551      0.165965     -0.067523  \nPclass_2           -0.035075      0.097270     -0.118495  \nPclass_3            0.138250     -0.223338      0.155560  \nMaster             -0.265355      0.120166      0.301809  \nMiss               -0.023890     -0.018085      0.083422  \nMr                  0.386262     -0.300872     -0.194207  \nMrs                -0.354649      0.361247      0.012893  \nOfficer             0.013303      0.003966     -0.034572  \nRoyalty            -0.000445      0.008687     -0.016008  \nCabin_A             0.045227     -0.029546     -0.033799  \nCabin_B            -0.087912      0.084268      0.013470  \nCabin_C            -0.137498      0.141925      0.001362  \nCabin_D            -0.074310      0.102432     -0.049336  \nCabin_E            -0.042535      0.068007     -0.046485  \nCabin_F             0.004055      0.012756     -0.033009  \nCabin_G            -0.076397      0.087471     -0.016008  \nCabin_T             0.022411     -0.019574     -0.007148  \nCabin_U             0.175812     -0.211367      0.056438  \nFamilySize         -0.688864      0.302640      0.801623  \nfamily_Single       1.000000     -0.873398     -0.318944  \nfamily_Small       -0.873398      1.000000     -0.183007  \nfamily_Large       -0.318944     -0.183007      1.000000  \n\n[32 rows x 32 columns]",
      "text/html": "<div>\n<style scoped>\n    .dataframe tbody tr th:only-of-type {\n        vertical-align: middle;\n    }\n\n    .dataframe tbody tr th {\n        vertical-align: top;\n    }\n\n    .dataframe thead th {\n        text-align: right;\n    }\n</style>\n<table border=\"1\" class=\"dataframe\">\n  <thead>\n    <tr style=\"text-align: right;\">\n      <th></th>\n      <th>PassengerId</th>\n      <th>Survived</th>\n      <th>Sex</th>\n      <th>Age</th>\n      <th>SibSp</th>\n      <th>Parch</th>\n      <th>Fare</th>\n      <th>Embarked_C</th>\n      <th>Embarked_Q</th>\n      <th>Embarked_S</th>\n      <th>...</th>\n      <th>Cabin_D</th>\n      <th>Cabin_E</th>\n      <th>Cabin_F</th>\n      <th>Cabin_G</th>\n      <th>Cabin_T</th>\n      <th>Cabin_U</th>\n      <th>FamilySize</th>\n      <th>family_Single</th>\n      <th>family_Small</th>\n      <th>family_Large</th>\n    </tr>\n  </thead>\n  <tbody>\n    <tr>\n      <th>PassengerId</th>\n      <td>1.000000</td>\n      <td>-0.005007</td>\n      <td>NaN</td>\n      <td>0.025731</td>\n      <td>-0.055224</td>\n      <td>0.008942</td>\n      <td>0.031416</td>\n      <td>0.048101</td>\n      <td>0.011585</td>\n      <td>-0.049836</td>\n      <td>...</td>\n      <td>0.000549</td>\n      <td>-0.008136</td>\n      <td>0.000306</td>\n      <td>-0.045949</td>\n      <td>-0.023049</td>\n      <td>0.000208</td>\n      <td>-0.031437</td>\n      <td>0.028546</td>\n      <td>0.002975</td>\n      <td>-0.063415</td>\n    </tr>\n    <tr>\n      <th>Survived</th>\n      <td>-0.005007</td>\n      <td>1.000000</td>\n      <td>NaN</td>\n      <td>-0.070323</td>\n      <td>-0.035322</td>\n      <td>0.081629</td>\n      <td>0.257307</td>\n      <td>0.168240</td>\n      <td>0.003650</td>\n      <td>-0.149683</td>\n      <td>...</td>\n      <td>0.150716</td>\n      <td>0.145321</td>\n      <td>0.057935</td>\n      <td>0.016040</td>\n      <td>-0.026456</td>\n      <td>-0.316912</td>\n      <td>0.016639</td>\n      <td>-0.203367</td>\n      <td>0.279855</td>\n      <td>-0.125147</td>\n    </tr>\n    <tr>\n      <th>Sex</th>\n      <td>NaN</td>\n      <td>NaN</td>\n      <td>NaN</td>\n      <td>NaN</td>\n      <td>NaN</td>\n      <td>NaN</td>\n      <td>NaN</td>\n      <td>NaN</td>\n      <td>NaN</td>\n      <td>NaN</td>\n      <td>...</td>\n      <td>NaN</td>\n      <td>NaN</td>\n      <td>NaN</td>\n      <td>NaN</td>\n      <td>NaN</td>\n      <td>NaN</td>\n      <td>NaN</td>\n      <td>NaN</td>\n      <td>NaN</td>\n      <td>NaN</td>\n    </tr>\n    <tr>\n      <th>Age</th>\n      <td>0.025731</td>\n      <td>-0.070323</td>\n      <td>NaN</td>\n      <td>1.000000</td>\n      <td>-0.190747</td>\n      <td>-0.130872</td>\n      <td>0.171521</td>\n      <td>0.076179</td>\n      <td>-0.012718</td>\n      <td>-0.059153</td>\n      <td>...</td>\n      <td>0.132886</td>\n      <td>0.106600</td>\n      <td>-0.072644</td>\n      <td>-0.085977</td>\n      <td>0.032461</td>\n      <td>-0.271918</td>\n      <td>-0.196996</td>\n      <td>0.116675</td>\n      <td>-0.038189</td>\n      <td>-0.161210</td>\n    </tr>\n    <tr>\n      <th>SibSp</th>\n      <td>-0.055224</td>\n      <td>-0.035322</td>\n      <td>NaN</td>\n      <td>-0.190747</td>\n      <td>1.000000</td>\n      <td>0.373587</td>\n      <td>0.160224</td>\n      <td>-0.048396</td>\n      <td>-0.048678</td>\n      <td>0.073709</td>\n      <td>...</td>\n      <td>-0.015727</td>\n      <td>-0.027180</td>\n      <td>-0.008619</td>\n      <td>0.006015</td>\n      <td>-0.013247</td>\n      <td>0.009064</td>\n      <td>0.861952</td>\n      <td>-0.591077</td>\n      <td>0.253590</td>\n      <td>0.699681</td>\n    </tr>\n    <tr>\n      <th>Parch</th>\n      <td>0.008942</td>\n      <td>0.081629</td>\n      <td>NaN</td>\n      <td>-0.130872</td>\n      <td>0.373587</td>\n      <td>1.000000</td>\n      <td>0.221522</td>\n      <td>-0.008635</td>\n      <td>-0.100943</td>\n      <td>0.071881</td>\n      <td>...</td>\n      <td>-0.027385</td>\n      <td>0.001084</td>\n      <td>0.020481</td>\n      <td>0.058325</td>\n      <td>-0.012304</td>\n      <td>-0.036806</td>\n      <td>0.792296</td>\n      <td>-0.549022</td>\n      <td>0.248532</td>\n      <td>0.624627</td>\n    </tr>\n    <tr>\n      <th>Fare</th>\n      <td>0.031416</td>\n      <td>0.257307</td>\n      <td>NaN</td>\n      <td>0.171521</td>\n      <td>0.160224</td>\n      <td>0.221522</td>\n      <td>1.000000</td>\n      <td>0.286241</td>\n      <td>-0.130054</td>\n      <td>-0.169894</td>\n      <td>...</td>\n      <td>0.072737</td>\n      <td>0.073949</td>\n      <td>-0.037567</td>\n      <td>-0.022857</td>\n      <td>0.001179</td>\n      <td>-0.507197</td>\n      <td>0.226465</td>\n      <td>-0.274826</td>\n      <td>0.197281</td>\n      <td>0.170853</td>\n    </tr>\n    <tr>\n      <th>Embarked_C</th>\n      <td>0.048101</td>\n      <td>0.168240</td>\n      <td>NaN</td>\n      <td>0.076179</td>\n      <td>-0.048396</td>\n      <td>-0.008635</td>\n      <td>0.286241</td>\n      <td>1.000000</td>\n      <td>-0.164166</td>\n      <td>-0.778262</td>\n      <td>...</td>\n      <td>0.107782</td>\n      <td>0.027566</td>\n      <td>-0.020010</td>\n      <td>-0.031566</td>\n      <td>-0.014095</td>\n      <td>-0.258257</td>\n      <td>-0.036553</td>\n      <td>-0.107874</td>\n      <td>0.159594</td>\n      <td>-0.092825</td>\n    </tr>\n    <tr>\n      <th>Embarked_Q</th>\n      <td>0.011585</td>\n      <td>0.003650</td>\n      <td>NaN</td>\n      <td>-0.012718</td>\n      <td>-0.048678</td>\n      <td>-0.100943</td>\n      <td>-0.130054</td>\n      <td>-0.164166</td>\n      <td>1.000000</td>\n      <td>-0.491656</td>\n      <td>...</td>\n      <td>-0.061459</td>\n      <td>-0.042877</td>\n      <td>-0.020282</td>\n      <td>-0.019941</td>\n      <td>-0.008904</td>\n      <td>0.142369</td>\n      <td>-0.087190</td>\n      <td>0.127214</td>\n      <td>-0.122491</td>\n      <td>-0.018423</td>\n    </tr>\n    <tr>\n      <th>Embarked_S</th>\n      <td>-0.049836</td>\n      <td>-0.149683</td>\n      <td>NaN</td>\n      <td>-0.059153</td>\n      <td>0.073709</td>\n      <td>0.071881</td>\n      <td>-0.169894</td>\n      <td>-0.778262</td>\n      <td>-0.491656</td>\n      <td>1.000000</td>\n      <td>...</td>\n      <td>-0.056023</td>\n      <td>0.002960</td>\n      <td>0.030575</td>\n      <td>0.040560</td>\n      <td>0.018111</td>\n      <td>0.137351</td>\n      <td>0.087771</td>\n      <td>0.014246</td>\n      <td>-0.062909</td>\n      <td>0.093671</td>\n    </tr>\n    <tr>\n      <th>Pclass_1</th>\n      <td>0.026495</td>\n      <td>0.285904</td>\n      <td>NaN</td>\n      <td>0.362587</td>\n      <td>-0.034256</td>\n      <td>-0.013033</td>\n      <td>0.599956</td>\n      <td>0.325722</td>\n      <td>-0.166101</td>\n      <td>-0.181800</td>\n      <td>...</td>\n      <td>0.275698</td>\n      <td>0.242963</td>\n      <td>-0.073083</td>\n      <td>-0.035441</td>\n      <td>0.048310</td>\n      <td>-0.776987</td>\n      <td>-0.029656</td>\n      <td>-0.126551</td>\n      <td>0.165965</td>\n      <td>-0.067523</td>\n    </tr>\n    <tr>\n      <th>Pclass_2</th>\n      <td>0.022714</td>\n      <td>0.093349</td>\n      <td>NaN</td>\n      <td>-0.014193</td>\n      <td>-0.052419</td>\n      <td>-0.010057</td>\n      <td>-0.121372</td>\n      <td>-0.134675</td>\n      <td>-0.121973</td>\n      <td>0.196532</td>\n      <td>...</td>\n      <td>-0.037929</td>\n      <td>-0.050210</td>\n      <td>0.127371</td>\n      <td>-0.032081</td>\n      <td>-0.014325</td>\n      <td>0.176485</td>\n      <td>-0.039976</td>\n      <td>-0.035075</td>\n      <td>0.097270</td>\n      <td>-0.118495</td>\n    </tr>\n    <tr>\n      <th>Pclass_3</th>\n      <td>-0.041544</td>\n      <td>-0.322308</td>\n      <td>NaN</td>\n      <td>-0.302093</td>\n      <td>0.072610</td>\n      <td>0.019521</td>\n      <td>-0.419616</td>\n      <td>-0.171430</td>\n      <td>0.243706</td>\n      <td>-0.003805</td>\n      <td>...</td>\n      <td>-0.207455</td>\n      <td>-0.169063</td>\n      <td>-0.041178</td>\n      <td>0.056964</td>\n      <td>-0.030057</td>\n      <td>0.527614</td>\n      <td>0.058430</td>\n      <td>0.138250</td>\n      <td>-0.223338</td>\n      <td>0.155560</td>\n    </tr>\n    <tr>\n      <th>Master</th>\n      <td>0.002254</td>\n      <td>0.085221</td>\n      <td>NaN</td>\n      <td>-0.363923</td>\n      <td>0.329171</td>\n      <td>0.253482</td>\n      <td>0.011596</td>\n      <td>-0.014172</td>\n      <td>-0.009091</td>\n      <td>0.018297</td>\n      <td>...</td>\n      <td>-0.042192</td>\n      <td>0.001860</td>\n      <td>0.058311</td>\n      <td>-0.013690</td>\n      <td>-0.006113</td>\n      <td>0.041178</td>\n      <td>0.355061</td>\n      <td>-0.265355</td>\n      <td>0.120166</td>\n      <td>0.301809</td>\n    </tr>\n    <tr>\n      <th>Miss</th>\n      <td>-0.050027</td>\n      <td>0.332795</td>\n      <td>NaN</td>\n      <td>-0.254146</td>\n      <td>0.077564</td>\n      <td>0.066473</td>\n      <td>0.092051</td>\n      <td>-0.014351</td>\n      <td>0.198804</td>\n      <td>-0.113886</td>\n      <td>...</td>\n      <td>-0.012516</td>\n      <td>0.008700</td>\n      <td>-0.003088</td>\n      <td>0.061881</td>\n      <td>-0.013832</td>\n      <td>-0.004364</td>\n      <td>0.087350</td>\n      <td>-0.023890</td>\n      <td>-0.018085</td>\n      <td>0.083422</td>\n    </tr>\n    <tr>\n      <th>Mr</th>\n      <td>0.014116</td>\n      <td>-0.549199</td>\n      <td>NaN</td>\n      <td>0.165476</td>\n      <td>-0.243104</td>\n      <td>-0.304780</td>\n      <td>-0.192192</td>\n      <td>-0.065538</td>\n      <td>-0.080224</td>\n      <td>0.108924</td>\n      <td>...</td>\n      <td>-0.030261</td>\n      <td>-0.032953</td>\n      <td>-0.026403</td>\n      <td>-0.072514</td>\n      <td>0.023611</td>\n      <td>0.131807</td>\n      <td>-0.326487</td>\n      <td>0.386262</td>\n      <td>-0.300872</td>\n      <td>-0.194207</td>\n    </tr>\n    <tr>\n      <th>Mrs</th>\n      <td>0.033299</td>\n      <td>0.344935</td>\n      <td>NaN</td>\n      <td>0.198091</td>\n      <td>0.061643</td>\n      <td>0.213491</td>\n      <td>0.139235</td>\n      <td>0.098379</td>\n      <td>-0.100374</td>\n      <td>-0.022950</td>\n      <td>...</td>\n      <td>0.080393</td>\n      <td>0.045538</td>\n      <td>0.013376</td>\n      <td>0.042547</td>\n      <td>-0.011742</td>\n      <td>-0.162253</td>\n      <td>0.157233</td>\n      <td>-0.354649</td>\n      <td>0.361247</td>\n      <td>0.012893</td>\n    </tr>\n    <tr>\n      <th>Officer</th>\n      <td>0.002231</td>\n      <td>-0.031316</td>\n      <td>NaN</td>\n      <td>0.162818</td>\n      <td>-0.013813</td>\n      <td>-0.032631</td>\n      <td>0.028696</td>\n      <td>0.003678</td>\n      <td>-0.003212</td>\n      <td>-0.001202</td>\n      <td>...</td>\n      <td>0.006055</td>\n      <td>-0.024048</td>\n      <td>-0.017076</td>\n      <td>-0.008281</td>\n      <td>-0.003698</td>\n      <td>-0.067030</td>\n      <td>-0.026921</td>\n      <td>0.013303</td>\n      <td>0.003966</td>\n      <td>-0.034572</td>\n    </tr>\n    <tr>\n      <th>Royalty</th>\n      <td>0.025269</td>\n      <td>0.050561</td>\n      <td>NaN</td>\n      <td>0.055386</td>\n      <td>-0.005879</td>\n      <td>-0.027555</td>\n      <td>0.030040</td>\n      <td>0.060256</td>\n      <td>-0.019941</td>\n      <td>-0.040498</td>\n      <td>...</td>\n      <td>-0.011817</td>\n      <td>-0.011135</td>\n      <td>-0.007907</td>\n      <td>-0.003834</td>\n      <td>-0.001712</td>\n      <td>-0.085163</td>\n      <td>-0.018928</td>\n      <td>-0.000445</td>\n      <td>0.008687</td>\n      <td>-0.016008</td>\n    </tr>\n    <tr>\n      <th>Cabin_A</th>\n      <td>-0.002831</td>\n      <td>0.022287</td>\n      <td>NaN</td>\n      <td>0.125177</td>\n      <td>-0.039808</td>\n      <td>-0.030707</td>\n      <td>0.020094</td>\n      <td>0.094914</td>\n      <td>-0.042105</td>\n      <td>-0.056984</td>\n      <td>...</td>\n      <td>-0.024952</td>\n      <td>-0.023510</td>\n      <td>-0.016695</td>\n      <td>-0.008096</td>\n      <td>-0.003615</td>\n      <td>-0.242399</td>\n      <td>-0.042967</td>\n      <td>0.045227</td>\n      <td>-0.029546</td>\n      <td>-0.033799</td>\n    </tr>\n    <tr>\n      <th>Cabin_B</th>\n      <td>0.015895</td>\n      <td>0.175095</td>\n      <td>NaN</td>\n      <td>0.113458</td>\n      <td>-0.011569</td>\n      <td>0.073051</td>\n      <td>0.393743</td>\n      <td>0.161595</td>\n      <td>-0.073613</td>\n      <td>-0.095790</td>\n      <td>...</td>\n      <td>-0.043624</td>\n      <td>-0.041103</td>\n      <td>-0.029188</td>\n      <td>-0.014154</td>\n      <td>-0.006320</td>\n      <td>-0.423794</td>\n      <td>0.032318</td>\n      <td>-0.087912</td>\n      <td>0.084268</td>\n      <td>0.013470</td>\n    </tr>\n    <tr>\n      <th>Cabin_C</th>\n      <td>0.006092</td>\n      <td>0.114652</td>\n      <td>NaN</td>\n      <td>0.167993</td>\n      <td>0.048616</td>\n      <td>0.009601</td>\n      <td>0.401370</td>\n      <td>0.158043</td>\n      <td>-0.059151</td>\n      <td>-0.101861</td>\n      <td>...</td>\n      <td>-0.053083</td>\n      <td>-0.050016</td>\n      <td>-0.035516</td>\n      <td>-0.017224</td>\n      <td>-0.007691</td>\n      <td>-0.515684</td>\n      <td>0.037226</td>\n      <td>-0.137498</td>\n      <td>0.141925</td>\n      <td>0.001362</td>\n    </tr>\n    <tr>\n      <th>Cabin_D</th>\n      <td>0.000549</td>\n      <td>0.150716</td>\n      <td>NaN</td>\n      <td>0.132886</td>\n      <td>-0.015727</td>\n      <td>-0.027385</td>\n      <td>0.072737</td>\n      <td>0.107782</td>\n      <td>-0.061459</td>\n      <td>-0.056023</td>\n      <td>...</td>\n      <td>1.000000</td>\n      <td>-0.034317</td>\n      <td>-0.024369</td>\n      <td>-0.011817</td>\n      <td>-0.005277</td>\n      <td>-0.353822</td>\n      <td>-0.025313</td>\n      <td>-0.074310</td>\n      <td>0.102432</td>\n      <td>-0.049336</td>\n    </tr>\n    <tr>\n      <th>Cabin_E</th>\n      <td>-0.008136</td>\n      <td>0.145321</td>\n      <td>NaN</td>\n      <td>0.106600</td>\n      <td>-0.027180</td>\n      <td>0.001084</td>\n      <td>0.073949</td>\n      <td>0.027566</td>\n      <td>-0.042877</td>\n      <td>0.002960</td>\n      <td>...</td>\n      <td>-0.034317</td>\n      <td>1.000000</td>\n      <td>-0.022961</td>\n      <td>-0.011135</td>\n      <td>-0.004972</td>\n      <td>-0.333381</td>\n      <td>-0.017285</td>\n      <td>-0.042535</td>\n      <td>0.068007</td>\n      <td>-0.046485</td>\n    </tr>\n    <tr>\n      <th>Cabin_F</th>\n      <td>0.000306</td>\n      <td>0.057935</td>\n      <td>NaN</td>\n      <td>-0.072644</td>\n      <td>-0.008619</td>\n      <td>0.020481</td>\n      <td>-0.037567</td>\n      <td>-0.020010</td>\n      <td>-0.020282</td>\n      <td>0.030575</td>\n      <td>...</td>\n      <td>-0.024369</td>\n      <td>-0.022961</td>\n      <td>1.000000</td>\n      <td>-0.007907</td>\n      <td>-0.003531</td>\n      <td>-0.236733</td>\n      <td>0.005525</td>\n      <td>0.004055</td>\n      <td>0.012756</td>\n      <td>-0.033009</td>\n    </tr>\n    <tr>\n      <th>Cabin_G</th>\n      <td>-0.045949</td>\n      <td>0.016040</td>\n      <td>NaN</td>\n      <td>-0.085977</td>\n      <td>0.006015</td>\n      <td>0.058325</td>\n      <td>-0.022857</td>\n      <td>-0.031566</td>\n      <td>-0.019941</td>\n      <td>0.040560</td>\n      <td>...</td>\n      <td>-0.011817</td>\n      <td>-0.011135</td>\n      <td>-0.007907</td>\n      <td>1.000000</td>\n      <td>-0.001712</td>\n      <td>-0.114803</td>\n      <td>0.035835</td>\n      <td>-0.076397</td>\n      <td>0.087471</td>\n      <td>-0.016008</td>\n    </tr>\n    <tr>\n      <th>Cabin_T</th>\n      <td>-0.023049</td>\n      <td>-0.026456</td>\n      <td>NaN</td>\n      <td>0.032461</td>\n      <td>-0.013247</td>\n      <td>-0.012304</td>\n      <td>0.001179</td>\n      <td>-0.014095</td>\n      <td>-0.008904</td>\n      <td>0.018111</td>\n      <td>...</td>\n      <td>-0.005277</td>\n      <td>-0.004972</td>\n      <td>-0.003531</td>\n      <td>-0.001712</td>\n      <td>1.000000</td>\n      <td>-0.051263</td>\n      <td>-0.015438</td>\n      <td>0.022411</td>\n      <td>-0.019574</td>\n      <td>-0.007148</td>\n    </tr>\n    <tr>\n      <th>Cabin_U</th>\n      <td>0.000208</td>\n      <td>-0.316912</td>\n      <td>NaN</td>\n      <td>-0.271918</td>\n      <td>0.009064</td>\n      <td>-0.036806</td>\n      <td>-0.507197</td>\n      <td>-0.258257</td>\n      <td>0.142369</td>\n      <td>0.137351</td>\n      <td>...</td>\n      <td>-0.353822</td>\n      <td>-0.333381</td>\n      <td>-0.236733</td>\n      <td>-0.114803</td>\n      <td>-0.051263</td>\n      <td>1.000000</td>\n      <td>-0.014155</td>\n      <td>0.175812</td>\n      <td>-0.211367</td>\n      <td>0.056438</td>\n    </tr>\n    <tr>\n      <th>FamilySize</th>\n      <td>-0.031437</td>\n      <td>0.016639</td>\n      <td>NaN</td>\n      <td>-0.196996</td>\n      <td>0.861952</td>\n      <td>0.792296</td>\n      <td>0.226465</td>\n      <td>-0.036553</td>\n      <td>-0.087190</td>\n      <td>0.087771</td>\n      <td>...</td>\n      <td>-0.025313</td>\n      <td>-0.017285</td>\n      <td>0.005525</td>\n      <td>0.035835</td>\n      <td>-0.015438</td>\n      <td>-0.014155</td>\n      <td>1.000000</td>\n      <td>-0.688864</td>\n      <td>0.302640</td>\n      <td>0.801623</td>\n    </tr>\n    <tr>\n      <th>family_Single</th>\n      <td>0.028546</td>\n      <td>-0.203367</td>\n      <td>NaN</td>\n      <td>0.116675</td>\n      <td>-0.591077</td>\n      <td>-0.549022</td>\n      <td>-0.274826</td>\n      <td>-0.107874</td>\n      <td>0.127214</td>\n      <td>0.014246</td>\n      <td>...</td>\n      <td>-0.074310</td>\n      <td>-0.042535</td>\n      <td>0.004055</td>\n      <td>-0.076397</td>\n      <td>0.022411</td>\n      <td>0.175812</td>\n      <td>-0.688864</td>\n      <td>1.000000</td>\n      <td>-0.873398</td>\n      <td>-0.318944</td>\n    </tr>\n    <tr>\n      <th>family_Small</th>\n      <td>0.002975</td>\n      <td>0.279855</td>\n      <td>NaN</td>\n      <td>-0.038189</td>\n      <td>0.253590</td>\n      <td>0.248532</td>\n      <td>0.197281</td>\n      <td>0.159594</td>\n      <td>-0.122491</td>\n      <td>-0.062909</td>\n      <td>...</td>\n      <td>0.102432</td>\n      <td>0.068007</td>\n      <td>0.012756</td>\n      <td>0.087471</td>\n      <td>-0.019574</td>\n      <td>-0.211367</td>\n      <td>0.302640</td>\n      <td>-0.873398</td>\n      <td>1.000000</td>\n      <td>-0.183007</td>\n    </tr>\n    <tr>\n      <th>family_Large</th>\n      <td>-0.063415</td>\n      <td>-0.125147</td>\n      <td>NaN</td>\n      <td>-0.161210</td>\n      <td>0.699681</td>\n      <td>0.624627</td>\n      <td>0.170853</td>\n      <td>-0.092825</td>\n      <td>-0.018423</td>\n      <td>0.093671</td>\n      <td>...</td>\n      <td>-0.049336</td>\n      <td>-0.046485</td>\n      <td>-0.033009</td>\n      <td>-0.016008</td>\n      <td>-0.007148</td>\n      <td>0.056438</td>\n      <td>0.801623</td>\n      <td>-0.318944</td>\n      <td>-0.183007</td>\n      <td>1.000000</td>\n    </tr>\n  </tbody>\n</table>\n<p>32 rows × 32 columns</p>\n</div>"
     },
     "execution_count": 48,
     "metadata": {},
     "output_type": "execute_result"
    }
   ],
   "source": [
    "corrDf=full.corr()\n",
    "corrDf"
   ]
  },
  {
   "cell_type": "code",
   "execution_count": 49,
   "id": "d3950bc5",
   "metadata": {
    "pycharm": {
     "name": "#%%\n"
    }
   },
   "outputs": [
    {
     "data": {
      "text/plain": "Survived         1.000000\nMrs              0.344935\nMiss             0.332795\nPclass_1         0.285904\nfamily_Small     0.279855\nFare             0.257307\nCabin_B          0.175095\nEmbarked_C       0.168240\nCabin_D          0.150716\nCabin_E          0.145321\nCabin_C          0.114652\nPclass_2         0.093349\nMaster           0.085221\nParch            0.081629\nCabin_F          0.057935\nRoyalty          0.050561\nCabin_A          0.022287\nFamilySize       0.016639\nCabin_G          0.016040\nEmbarked_Q       0.003650\nPassengerId     -0.005007\nCabin_T         -0.026456\nOfficer         -0.031316\nSibSp           -0.035322\nAge             -0.070323\nfamily_Large    -0.125147\nEmbarked_S      -0.149683\nfamily_Single   -0.203367\nCabin_U         -0.316912\nPclass_3        -0.322308\nMr              -0.549199\nSex                   NaN\nName: Survived, dtype: float64"
     },
     "execution_count": 49,
     "metadata": {},
     "output_type": "execute_result"
    }
   ],
   "source": [
    "corrDf['Survived'].sort_values(ascending=False)"
   ]
  },
  {
   "cell_type": "code",
   "execution_count": 50,
   "id": "e74ca495",
   "metadata": {
    "pycharm": {
     "name": "#%%\n"
    }
   },
   "outputs": [
    {
     "data": {
      "text/plain": "   Master  Miss  Mr  Mrs  Officer  Royalty  Pclass_1  Pclass_2  Pclass_3  \\\n0       0     0   1    0        0        0         0         0         1   \n1       0     0   0    1        0        0         1         0         0   \n2       0     1   0    0        0        0         0         0         1   \n3       0     0   0    1        0        0         1         0         0   \n4       0     0   1    0        0        0         0         0         1   \n\n   FamilySize  ...  Cabin_D  Cabin_E  Cabin_F  Cabin_G  Cabin_T  Cabin_U  \\\n0           2  ...        0        0        0        0        0        1   \n1           2  ...        0        0        0        0        0        0   \n2           1  ...        0        0        0        0        0        1   \n3           2  ...        0        0        0        0        0        0   \n4           1  ...        0        0        0        0        0        1   \n\n   Embarked_C  Embarked_Q  Embarked_S  Sex  \n0           0           0           1  NaN  \n1           1           0           0  NaN  \n2           0           0           1  NaN  \n3           0           0           1  NaN  \n4           0           0           1  NaN  \n\n[5 rows x 27 columns]",
      "text/html": "<div>\n<style scoped>\n    .dataframe tbody tr th:only-of-type {\n        vertical-align: middle;\n    }\n\n    .dataframe tbody tr th {\n        vertical-align: top;\n    }\n\n    .dataframe thead th {\n        text-align: right;\n    }\n</style>\n<table border=\"1\" class=\"dataframe\">\n  <thead>\n    <tr style=\"text-align: right;\">\n      <th></th>\n      <th>Master</th>\n      <th>Miss</th>\n      <th>Mr</th>\n      <th>Mrs</th>\n      <th>Officer</th>\n      <th>Royalty</th>\n      <th>Pclass_1</th>\n      <th>Pclass_2</th>\n      <th>Pclass_3</th>\n      <th>FamilySize</th>\n      <th>...</th>\n      <th>Cabin_D</th>\n      <th>Cabin_E</th>\n      <th>Cabin_F</th>\n      <th>Cabin_G</th>\n      <th>Cabin_T</th>\n      <th>Cabin_U</th>\n      <th>Embarked_C</th>\n      <th>Embarked_Q</th>\n      <th>Embarked_S</th>\n      <th>Sex</th>\n    </tr>\n  </thead>\n  <tbody>\n    <tr>\n      <th>0</th>\n      <td>0</td>\n      <td>0</td>\n      <td>1</td>\n      <td>0</td>\n      <td>0</td>\n      <td>0</td>\n      <td>0</td>\n      <td>0</td>\n      <td>1</td>\n      <td>2</td>\n      <td>...</td>\n      <td>0</td>\n      <td>0</td>\n      <td>0</td>\n      <td>0</td>\n      <td>0</td>\n      <td>1</td>\n      <td>0</td>\n      <td>0</td>\n      <td>1</td>\n      <td>NaN</td>\n    </tr>\n    <tr>\n      <th>1</th>\n      <td>0</td>\n      <td>0</td>\n      <td>0</td>\n      <td>1</td>\n      <td>0</td>\n      <td>0</td>\n      <td>1</td>\n      <td>0</td>\n      <td>0</td>\n      <td>2</td>\n      <td>...</td>\n      <td>0</td>\n      <td>0</td>\n      <td>0</td>\n      <td>0</td>\n      <td>0</td>\n      <td>0</td>\n      <td>1</td>\n      <td>0</td>\n      <td>0</td>\n      <td>NaN</td>\n    </tr>\n    <tr>\n      <th>2</th>\n      <td>0</td>\n      <td>1</td>\n      <td>0</td>\n      <td>0</td>\n      <td>0</td>\n      <td>0</td>\n      <td>0</td>\n      <td>0</td>\n      <td>1</td>\n      <td>1</td>\n      <td>...</td>\n      <td>0</td>\n      <td>0</td>\n      <td>0</td>\n      <td>0</td>\n      <td>0</td>\n      <td>1</td>\n      <td>0</td>\n      <td>0</td>\n      <td>1</td>\n      <td>NaN</td>\n    </tr>\n    <tr>\n      <th>3</th>\n      <td>0</td>\n      <td>0</td>\n      <td>0</td>\n      <td>1</td>\n      <td>0</td>\n      <td>0</td>\n      <td>1</td>\n      <td>0</td>\n      <td>0</td>\n      <td>2</td>\n      <td>...</td>\n      <td>0</td>\n      <td>0</td>\n      <td>0</td>\n      <td>0</td>\n      <td>0</td>\n      <td>0</td>\n      <td>0</td>\n      <td>0</td>\n      <td>1</td>\n      <td>NaN</td>\n    </tr>\n    <tr>\n      <th>4</th>\n      <td>0</td>\n      <td>0</td>\n      <td>1</td>\n      <td>0</td>\n      <td>0</td>\n      <td>0</td>\n      <td>0</td>\n      <td>0</td>\n      <td>1</td>\n      <td>1</td>\n      <td>...</td>\n      <td>0</td>\n      <td>0</td>\n      <td>0</td>\n      <td>0</td>\n      <td>0</td>\n      <td>1</td>\n      <td>0</td>\n      <td>0</td>\n      <td>1</td>\n      <td>NaN</td>\n    </tr>\n  </tbody>\n</table>\n<p>5 rows × 27 columns</p>\n</div>"
     },
     "execution_count": 50,
     "metadata": {},
     "output_type": "execute_result"
    }
   ],
   "source": [
    "full_x=pd.concat([titleDf,\n",
    "                 pclassDf,\n",
    "                 familyDf,\n",
    "                 full['Fare'],\n",
    "                 cabinDf,\n",
    "                 embarkedDF,\n",
    "                 full['Sex']],axis=1)\n",
    "full_x.head()"
   ]
  },
  {
   "cell_type": "code",
   "execution_count": 51,
   "id": "917cca8c",
   "metadata": {
    "pycharm": {
     "name": "#%%\n"
    }
   },
   "outputs": [
    {
     "data": {
      "text/plain": "   PassengerId  Survived  Sex   Age  SibSp  Parch            Ticket     Fare  \\\n0            1       0.0  NaN  22.0      1      0         A/5 21171   7.2500   \n1            2       1.0  NaN  38.0      1      0          PC 17599  71.2833   \n2            3       1.0  NaN  26.0      0      0  STON/O2. 3101282   7.9250   \n3            4       1.0  NaN  35.0      1      0            113803  53.1000   \n4            5       0.0  NaN  35.0      0      0            373450   8.0500   \n\n   Embarked_C  Embarked_Q  ...  Cabin_D  Cabin_E  Cabin_F  Cabin_G  Cabin_T  \\\n0           0           0  ...        0        0        0        0        0   \n1           1           0  ...        0        0        0        0        0   \n2           0           0  ...        0        0        0        0        0   \n3           0           0  ...        0        0        0        0        0   \n4           0           0  ...        0        0        0        0        0   \n\n   Cabin_U  FamilySize  family_Single  family_Small  family_Large  \n0        1           2              0             1             0  \n1        0           2              0             1             0  \n2        1           1              1             0             0  \n3        0           2              0             1             0  \n4        1           1              1             0             0  \n\n[5 rows x 33 columns]",
      "text/html": "<div>\n<style scoped>\n    .dataframe tbody tr th:only-of-type {\n        vertical-align: middle;\n    }\n\n    .dataframe tbody tr th {\n        vertical-align: top;\n    }\n\n    .dataframe thead th {\n        text-align: right;\n    }\n</style>\n<table border=\"1\" class=\"dataframe\">\n  <thead>\n    <tr style=\"text-align: right;\">\n      <th></th>\n      <th>PassengerId</th>\n      <th>Survived</th>\n      <th>Sex</th>\n      <th>Age</th>\n      <th>SibSp</th>\n      <th>Parch</th>\n      <th>Ticket</th>\n      <th>Fare</th>\n      <th>Embarked_C</th>\n      <th>Embarked_Q</th>\n      <th>...</th>\n      <th>Cabin_D</th>\n      <th>Cabin_E</th>\n      <th>Cabin_F</th>\n      <th>Cabin_G</th>\n      <th>Cabin_T</th>\n      <th>Cabin_U</th>\n      <th>FamilySize</th>\n      <th>family_Single</th>\n      <th>family_Small</th>\n      <th>family_Large</th>\n    </tr>\n  </thead>\n  <tbody>\n    <tr>\n      <th>0</th>\n      <td>1</td>\n      <td>0.0</td>\n      <td>NaN</td>\n      <td>22.0</td>\n      <td>1</td>\n      <td>0</td>\n      <td>A/5 21171</td>\n      <td>7.2500</td>\n      <td>0</td>\n      <td>0</td>\n      <td>...</td>\n      <td>0</td>\n      <td>0</td>\n      <td>0</td>\n      <td>0</td>\n      <td>0</td>\n      <td>1</td>\n      <td>2</td>\n      <td>0</td>\n      <td>1</td>\n      <td>0</td>\n    </tr>\n    <tr>\n      <th>1</th>\n      <td>2</td>\n      <td>1.0</td>\n      <td>NaN</td>\n      <td>38.0</td>\n      <td>1</td>\n      <td>0</td>\n      <td>PC 17599</td>\n      <td>71.2833</td>\n      <td>1</td>\n      <td>0</td>\n      <td>...</td>\n      <td>0</td>\n      <td>0</td>\n      <td>0</td>\n      <td>0</td>\n      <td>0</td>\n      <td>0</td>\n      <td>2</td>\n      <td>0</td>\n      <td>1</td>\n      <td>0</td>\n    </tr>\n    <tr>\n      <th>2</th>\n      <td>3</td>\n      <td>1.0</td>\n      <td>NaN</td>\n      <td>26.0</td>\n      <td>0</td>\n      <td>0</td>\n      <td>STON/O2. 3101282</td>\n      <td>7.9250</td>\n      <td>0</td>\n      <td>0</td>\n      <td>...</td>\n      <td>0</td>\n      <td>0</td>\n      <td>0</td>\n      <td>0</td>\n      <td>0</td>\n      <td>1</td>\n      <td>1</td>\n      <td>1</td>\n      <td>0</td>\n      <td>0</td>\n    </tr>\n    <tr>\n      <th>3</th>\n      <td>4</td>\n      <td>1.0</td>\n      <td>NaN</td>\n      <td>35.0</td>\n      <td>1</td>\n      <td>0</td>\n      <td>113803</td>\n      <td>53.1000</td>\n      <td>0</td>\n      <td>0</td>\n      <td>...</td>\n      <td>0</td>\n      <td>0</td>\n      <td>0</td>\n      <td>0</td>\n      <td>0</td>\n      <td>0</td>\n      <td>2</td>\n      <td>0</td>\n      <td>1</td>\n      <td>0</td>\n    </tr>\n    <tr>\n      <th>4</th>\n      <td>5</td>\n      <td>0.0</td>\n      <td>NaN</td>\n      <td>35.0</td>\n      <td>0</td>\n      <td>0</td>\n      <td>373450</td>\n      <td>8.0500</td>\n      <td>0</td>\n      <td>0</td>\n      <td>...</td>\n      <td>0</td>\n      <td>0</td>\n      <td>0</td>\n      <td>0</td>\n      <td>0</td>\n      <td>1</td>\n      <td>1</td>\n      <td>1</td>\n      <td>0</td>\n      <td>0</td>\n    </tr>\n  </tbody>\n</table>\n<p>5 rows × 33 columns</p>\n</div>"
     },
     "execution_count": 51,
     "metadata": {},
     "output_type": "execute_result"
    }
   ],
   "source": [
    "import matplotlib.pyplot as plt\n",
    "sourceRow=891\n",
    "visualizedDf=full.loc[0:sourceRow-1,:]\n",
    "visualizedDf.head()"
   ]
  },
  {
   "cell_type": "code",
   "execution_count": 52,
   "id": "4d605cf4",
   "metadata": {
    "pycharm": {
     "name": "#%%\n"
    }
   },
   "outputs": [
    {
     "data": {
      "text/plain": "Empty DataFrame\nColumns: [male, female]\nIndex: []",
      "text/html": "<div>\n<style scoped>\n    .dataframe tbody tr th:only-of-type {\n        vertical-align: middle;\n    }\n\n    .dataframe tbody tr th {\n        vertical-align: top;\n    }\n\n    .dataframe thead th {\n        text-align: right;\n    }\n</style>\n<table border=\"1\" class=\"dataframe\">\n  <thead>\n    <tr style=\"text-align: right;\">\n      <th></th>\n      <th>male</th>\n      <th>female</th>\n    </tr>\n  </thead>\n  <tbody>\n  </tbody>\n</table>\n</div>"
     },
     "execution_count": 52,
     "metadata": {},
     "output_type": "execute_result"
    }
   ],
   "source": [
    "#性别与存活人数的关系\n",
    "survived_m= visualizedDf.loc[visualizedDf['Sex']==1,'Survived'].value_counts()\n",
    "survived_f= visualizedDf.loc[visualizedDf['Sex']==0,'Survived'].value_counts()\n",
    "sexDf=pd.DataFrame({'male':survived_m,'female':survived_f})\n",
    "sexDf\n"
   ]
  },
  {
   "cell_type": "code",
   "execution_count": 53,
   "id": "8b1ef1fa",
   "metadata": {
    "pycharm": {
     "name": "#%%\n"
    }
   },
   "outputs": [
    {
     "data": {
      "text/plain": "Empty DataFrame\nColumns: []\nIndex: [male, female]",
      "text/html": "<div>\n<style scoped>\n    .dataframe tbody tr th:only-of-type {\n        vertical-align: middle;\n    }\n\n    .dataframe tbody tr th {\n        vertical-align: top;\n    }\n\n    .dataframe thead th {\n        text-align: right;\n    }\n</style>\n<table border=\"1\" class=\"dataframe\">\n  <thead>\n    <tr style=\"text-align: right;\">\n      <th></th>\n    </tr>\n  </thead>\n  <tbody>\n    <tr>\n      <th>male</th>\n    </tr>\n    <tr>\n      <th>female</th>\n    </tr>\n  </tbody>\n</table>\n</div>"
     },
     "execution_count": 53,
     "metadata": {},
     "output_type": "execute_result"
    }
   ],
   "source": [
    "sexDf.T"
   ]
  },
  {
   "cell_type": "code",
   "execution_count": 46,
   "id": "03839b4c",
   "metadata": {
    "pycharm": {
     "name": "#%%\n"
    }
   },
   "outputs": [
    {
     "ename": "TypeError",
     "evalue": "no numeric data to plot",
     "output_type": "error",
     "traceback": [
      "\u001B[1;31m---------------------------------------------------------------------------\u001B[0m",
      "\u001B[1;31mTypeError\u001B[0m                                 Traceback (most recent call last)",
      "Input \u001B[1;32mIn [46]\u001B[0m, in \u001B[0;36m<cell line: 1>\u001B[1;34m()\u001B[0m\n\u001B[1;32m----> 1\u001B[0m \u001B[43msexDf\u001B[49m\u001B[38;5;241;43m.\u001B[39;49m\u001B[43mT\u001B[49m\u001B[38;5;241;43m.\u001B[39;49m\u001B[43mplot\u001B[49m\u001B[43m(\u001B[49m\u001B[43mkind\u001B[49m\u001B[38;5;241;43m=\u001B[39;49m\u001B[38;5;124;43m'\u001B[39;49m\u001B[38;5;124;43mbar\u001B[39;49m\u001B[38;5;124;43m'\u001B[39;49m\u001B[43m,\u001B[49m\u001B[43mstacked\u001B[49m\u001B[38;5;241;43m=\u001B[39;49m\u001B[38;5;28;43;01mTrue\u001B[39;49;00m\u001B[43m,\u001B[49m\u001B[43mcolor\u001B[49m\u001B[38;5;241;43m=\u001B[39;49m\u001B[43m[\u001B[49m\u001B[38;5;124;43m'\u001B[39;49m\u001B[38;5;124;43mblue\u001B[39;49m\u001B[38;5;124;43m'\u001B[39;49m\u001B[43m,\u001B[49m\u001B[38;5;124;43m'\u001B[39;49m\u001B[38;5;124;43mred\u001B[39;49m\u001B[38;5;124;43m'\u001B[39;49m\u001B[43m]\u001B[49m\u001B[43m)\u001B[49m\n\u001B[0;32m      2\u001B[0m plt\u001B[38;5;241m.\u001B[39mxlabel(\u001B[38;5;124m'\u001B[39m\u001B[38;5;124msex\u001B[39m\u001B[38;5;124m'\u001B[39m)\n\u001B[0;32m      3\u001B[0m plt\u001B[38;5;241m.\u001B[39mylabel(\u001B[38;5;124m'\u001B[39m\u001B[38;5;124mcount\u001B[39m\u001B[38;5;124m'\u001B[39m)\n",
      "File \u001B[1;32m~\\AppData\\Local\\Programs\\Python\\Python310\\lib\\site-packages\\pandas\\plotting\\_core.py:972\u001B[0m, in \u001B[0;36mPlotAccessor.__call__\u001B[1;34m(self, *args, **kwargs)\u001B[0m\n\u001B[0;32m    969\u001B[0m             label_name \u001B[38;5;241m=\u001B[39m label_kw \u001B[38;5;129;01mor\u001B[39;00m data\u001B[38;5;241m.\u001B[39mcolumns\n\u001B[0;32m    970\u001B[0m             data\u001B[38;5;241m.\u001B[39mcolumns \u001B[38;5;241m=\u001B[39m label_name\n\u001B[1;32m--> 972\u001B[0m \u001B[38;5;28;01mreturn\u001B[39;00m plot_backend\u001B[38;5;241m.\u001B[39mplot(data, kind\u001B[38;5;241m=\u001B[39mkind, \u001B[38;5;241m*\u001B[39m\u001B[38;5;241m*\u001B[39mkwargs)\n",
      "File \u001B[1;32m~\\AppData\\Local\\Programs\\Python\\Python310\\lib\\site-packages\\pandas\\plotting\\_matplotlib\\__init__.py:71\u001B[0m, in \u001B[0;36mplot\u001B[1;34m(data, kind, **kwargs)\u001B[0m\n\u001B[0;32m     69\u001B[0m         kwargs[\u001B[38;5;124m\"\u001B[39m\u001B[38;5;124max\u001B[39m\u001B[38;5;124m\"\u001B[39m] \u001B[38;5;241m=\u001B[39m \u001B[38;5;28mgetattr\u001B[39m(ax, \u001B[38;5;124m\"\u001B[39m\u001B[38;5;124mleft_ax\u001B[39m\u001B[38;5;124m\"\u001B[39m, ax)\n\u001B[0;32m     70\u001B[0m plot_obj \u001B[38;5;241m=\u001B[39m PLOT_CLASSES[kind](data, \u001B[38;5;241m*\u001B[39m\u001B[38;5;241m*\u001B[39mkwargs)\n\u001B[1;32m---> 71\u001B[0m \u001B[43mplot_obj\u001B[49m\u001B[38;5;241;43m.\u001B[39;49m\u001B[43mgenerate\u001B[49m\u001B[43m(\u001B[49m\u001B[43m)\u001B[49m\n\u001B[0;32m     72\u001B[0m plot_obj\u001B[38;5;241m.\u001B[39mdraw()\n\u001B[0;32m     73\u001B[0m \u001B[38;5;28;01mreturn\u001B[39;00m plot_obj\u001B[38;5;241m.\u001B[39mresult\n",
      "File \u001B[1;32m~\\AppData\\Local\\Programs\\Python\\Python310\\lib\\site-packages\\pandas\\plotting\\_matplotlib\\core.py:327\u001B[0m, in \u001B[0;36mMPLPlot.generate\u001B[1;34m(self)\u001B[0m\n\u001B[0;32m    325\u001B[0m \u001B[38;5;28;01mdef\u001B[39;00m \u001B[38;5;21mgenerate\u001B[39m(\u001B[38;5;28mself\u001B[39m):\n\u001B[0;32m    326\u001B[0m     \u001B[38;5;28mself\u001B[39m\u001B[38;5;241m.\u001B[39m_args_adjust()\n\u001B[1;32m--> 327\u001B[0m     \u001B[38;5;28;43mself\u001B[39;49m\u001B[38;5;241;43m.\u001B[39;49m\u001B[43m_compute_plot_data\u001B[49m\u001B[43m(\u001B[49m\u001B[43m)\u001B[49m\n\u001B[0;32m    328\u001B[0m     \u001B[38;5;28mself\u001B[39m\u001B[38;5;241m.\u001B[39m_setup_subplots()\n\u001B[0;32m    329\u001B[0m     \u001B[38;5;28mself\u001B[39m\u001B[38;5;241m.\u001B[39m_make_plot()\n",
      "File \u001B[1;32m~\\AppData\\Local\\Programs\\Python\\Python310\\lib\\site-packages\\pandas\\plotting\\_matplotlib\\core.py:506\u001B[0m, in \u001B[0;36mMPLPlot._compute_plot_data\u001B[1;34m(self)\u001B[0m\n\u001B[0;32m    504\u001B[0m \u001B[38;5;66;03m# no non-numeric frames or series allowed\u001B[39;00m\n\u001B[0;32m    505\u001B[0m \u001B[38;5;28;01mif\u001B[39;00m is_empty:\n\u001B[1;32m--> 506\u001B[0m     \u001B[38;5;28;01mraise\u001B[39;00m \u001B[38;5;167;01mTypeError\u001B[39;00m(\u001B[38;5;124m\"\u001B[39m\u001B[38;5;124mno numeric data to plot\u001B[39m\u001B[38;5;124m\"\u001B[39m)\n\u001B[0;32m    508\u001B[0m \u001B[38;5;28mself\u001B[39m\u001B[38;5;241m.\u001B[39mdata \u001B[38;5;241m=\u001B[39m numeric_data\u001B[38;5;241m.\u001B[39mapply(\u001B[38;5;28mself\u001B[39m\u001B[38;5;241m.\u001B[39m_convert_to_ndarray)\n",
      "\u001B[1;31mTypeError\u001B[0m: no numeric data to plot"
     ]
    }
   ],
   "source": [
    "sexDf.T.plot(kind='bar',stacked=True,color=['blue','red'])\n",
    "plt.xlabel('sex')\n",
    "plt.ylabel('count')\n",
    "plt.title('sex vs count')\n",
    "plt.legend(labels=['death','survived'])\n",
    "plt.show()"
   ]
  },
  {
   "cell_type": "code",
   "execution_count": null,
   "id": "22211f44",
   "metadata": {
    "pycharm": {
     "name": "#%%\n"
    }
   },
   "outputs": [],
   "source": [
    "survived_Officer= visualizedDf.loc[visualizedDf['Officer']==1,\n",
    "                                   'Survived'].value_counts()\n",
    "survived_Royalty= visualizedDf.loc[visualizedDf['Royalty']==1,\n",
    "                                   'Survived'].value_counts()\n",
    "survived_Mr= visualizedDf.loc[visualizedDf['Mr']==1,\n",
    "                                   'Survived'].value_counts()\n",
    "survived_Mrs= visualizedDf.loc[visualizedDf['Mrs']==1,\n",
    "                                   'Survived'].value_counts()\n",
    "survived_Miss= visualizedDf.loc[visualizedDf['Miss']==1,\n",
    "                                   'Survived'].value_counts()\n",
    "survived_Master= visualizedDf.loc[visualizedDf['Master']==1,\n",
    "                                   'Survived'].value_counts()\n",
    "statusDf=pd.DataFrame({'Officer':survived_Officer,\n",
    "                      'Royalty':survived_Royalty,\n",
    "                      'Mr':survived_Mr,\n",
    "                      'Mrs':survived_Mrs,\n",
    "                      'Miss':survived_Miss,\n",
    "                      'Master':survived_Master\n",
    "})"
   ]
  },
  {
   "cell_type": "code",
   "execution_count": null,
   "id": "5d452320",
   "metadata": {
    "pycharm": {
     "name": "#%%\n"
    }
   },
   "outputs": [],
   "source": [
    "plt.figure(figsize=(12,4))\n",
    "plt.figure()\n",
    "\n",
    "statusDf.T.plot(kind='bar',stacked=True,color=['green','red'])\n",
    "plt.xlabel('title')\n",
    "plt.ylabel('count')\n",
    "plt.title('title vs count')\n",
    "plt.legend(labels=['death','survived'],loc=\"upper left\")\n",
    "plt.show()"
   ]
  },
  {
   "cell_type": "code",
   "execution_count": null,
   "id": "1ce75e88",
   "metadata": {
    "pycharm": {
     "name": "#%%\n"
    }
   },
   "outputs": [],
   "source": [
    "#客舱等级与存活的关系\n",
    "survived_Pclass_1= visualizedDf.loc[visualizedDf['Pclass_1']==1,\n",
    "                                   'Survived'].value_counts()\n",
    "survived_Pclass_2= visualizedDf.loc[visualizedDf['Pclass_2']==1,\n",
    "                                   'Survived'].value_counts()\n",
    "survived_Pclass_3= visualizedDf.loc[visualizedDf['Pclass_3']==1,\n",
    "                                   'Survived'].value_counts()\n",
    "pclassDf=pd.DataFrame({'Pclass_1':survived_Pclass_1,\n",
    "                      'Pclass_2':survived_Pclass_2,\n",
    "                      'Pclass_3':survived_Pclass_3\n",
    "})\n",
    "plt.figure(figsize=(12,4))\n",
    "plt.figure()\n",
    "\n",
    "pclassDf.T.plot(kind='bar',stacked=True,color=['green','red'])\n",
    "plt.xlabel('pclass')\n",
    "plt.ylabel('count')\n",
    "plt.title('pclass vs count')\n",
    "plt.legend(labels=['death','survived'],loc=\"upper left\")\n",
    "plt.show()"
   ]
  },
  {
   "cell_type": "code",
   "execution_count": null,
   "id": "72049239",
   "metadata": {
    "pycharm": {
     "name": "#%%\n"
    }
   },
   "outputs": [],
   "source": [
    "#家庭规模与存活的关系\n",
    "survived_family_Single= visualizedDf.loc[visualizedDf['family_Single']==1,\n",
    "                                   'Survived'].value_counts()\n",
    "survived_family_Small= visualizedDf.loc[visualizedDf['family_Small']==1,\n",
    "                                   'Survived'].value_counts()\n",
    "survived_family_Large= visualizedDf.loc[visualizedDf['family_Large']==1,\n",
    "                                   'Survived'].value_counts()\n",
    "familyDf=pd.DataFrame({'family_Single':survived_family_Single,\n",
    "                      'family_Small':survived_family_Small,\n",
    "                      'family_Large':survived_family_Large\n",
    "})\n",
    "plt.figure(figsize=(12,4))\n",
    "plt.figure()\n",
    "\n",
    "familyDf.T.plot(kind='bar',stacked=True,color=['green','red'])\n",
    "plt.xlabel('family_size')\n",
    "plt.ylabel('count')\n",
    "plt.title('family_size vs count')\n",
    "plt.legend(labels=['death','survived'],loc=\"upper right\")\n",
    "plt.show()"
   ]
  },
  {
   "cell_type": "code",
   "execution_count": null,
   "id": "ac8ef5f8",
   "metadata": {
    "pycharm": {
     "name": "#%%\n"
    }
   },
   "outputs": [],
   "source": [
    "#登录港口与存活率的关系\n",
    "survived_C= visualizedDf.loc[visualizedDf['Embarked_C']==1,\n",
    "                                   'Survived'].value_counts()\n",
    "survived_Q= visualizedDf.loc[visualizedDf['Embarked_Q']==1,\n",
    "                                   'Survived'].value_counts()\n",
    "survived_S= visualizedDf.loc[visualizedDf['Embarked_S']==1,\n",
    "                                   'Survived'].value_counts()\n",
    "embarked_Df=pd.DataFrame({'Embarked_C':survived_C,\n",
    "                      'Embarked_Q':survived_Q,\n",
    "                      'Embarked_S':survived_S\n",
    "})\n",
    "plt.figure(figsize=(12,4))\n",
    "plt.figure()\n",
    "\n",
    "embarked_Df.T.plot(kind='bar',stacked=True,color=['green','red'])\n",
    "plt.xlabel('embarked')\n",
    "plt.ylabel('count')\n",
    "plt.title('embarked vs count')\n",
    "plt.legend(labels=['death','survived'],loc=\"upper left\")\n",
    "plt.show()"
   ]
  },
  {
   "cell_type": "code",
   "execution_count": null,
   "id": "82c2de62",
   "metadata": {
    "pycharm": {
     "name": "#%%\n"
    }
   },
   "outputs": [],
   "source": [
    "#构建机器学习模型\n",
    "sourceRow=891\n",
    "souce_X=full_x.loc[0:sourceRow-1,:]\n",
    "souce_Y=full.loc[0:sourceRow-1,'Survived']\n",
    "#预测数据集，特征\n",
    "pre_X=full_x.loc[sourceRow:,:]\n",
    "souce_X.shape"
   ]
  },
  {
   "cell_type": "code",
   "execution_count": null,
   "id": "a2b9177e",
   "metadata": {
    "pycharm": {
     "name": "#%%\n"
    }
   },
   "outputs": [],
   "source": [
    "pre_X.shape"
   ]
  },
  {
   "cell_type": "code",
   "execution_count": null,
   "id": "36bade37",
   "metadata": {
    "pycharm": {
     "name": "#%%\n"
    }
   },
   "outputs": [],
   "source": [
    "from sklearn.model_selection import train_test_split\n",
    "train_X,test_X,train_y,test_y=train_test_split(souce_X,\n",
    "                                               souce_Y,\n",
    "                                               train_size=0.8)\n",
    "souce_X.head()\n"
   ]
  },
  {
   "cell_type": "code",
   "execution_count": null,
   "id": "d18ff660",
   "metadata": {
    "pycharm": {
     "name": "#%%\n"
    }
   },
   "outputs": [],
   "source": [
    "souce_Y.head()"
   ]
  },
  {
   "cell_type": "code",
   "execution_count": null,
   "id": "3c174338",
   "metadata": {
    "pycharm": {
     "name": "#%%\n"
    }
   },
   "outputs": [],
   "source": [
    "#选择机器学习算法\n",
    "from sklearn.linear_model import LogisticRegression\n",
    "model=LogisticRegression()\n",
    "model.fit(train_X,train_y)"
   ]
  },
  {
   "cell_type": "code",
   "execution_count": null,
   "id": "516c7ce5",
   "metadata": {
    "pycharm": {
     "name": "#%%\n"
    }
   },
   "outputs": [],
   "source": [
    "model.score(test_X,test_y)"
   ]
  },
  {
   "cell_type": "code",
   "execution_count": null,
   "id": "62ec4891",
   "metadata": {
    "pycharm": {
     "name": "#%%\n"
    }
   },
   "outputs": [],
   "source": []
  }
 ],
 "metadata": {
  "kernelspec": {
   "display_name": "Python 3",
   "language": "python",
   "name": "python3"
  },
  "language_info": {
   "codemirror_mode": {
    "name": "ipython",
    "version": 3
   },
   "file_extension": ".py",
   "mimetype": "text/x-python",
   "name": "python",
   "nbconvert_exporter": "python",
   "pygments_lexer": "ipython3",
   "version": "3.8.8"
  }
 },
 "nbformat": 4,
 "nbformat_minor": 5
}